{
 "cells": [
  {
   "cell_type": "markdown",
   "id": "a7ba4a75-d88b-415a-ae94-337dd4beb8e0",
   "metadata": {},
   "source": [
    "# Week 5: Gradient descent, logistic regression"
   ]
  },
  {
   "cell_type": "markdown",
   "id": "1ca88c4a-af47-4487-84c4-ae61b746745c",
   "metadata": {},
   "source": [
    "## Gradient descent function\n",
    "\n",
    "$w_{t+1} = w_t-\\eta \\cdot \\nabla f_{loss}(w_t)$"
   ]
  },
  {
   "cell_type": "code",
   "execution_count": 5,
   "id": "aa142a68-43bb-49ba-90fa-0bfee5f0ef3b",
   "metadata": {},
   "outputs": [],
   "source": [
    "import numpy as np\n",
    "import sklearn.datasets\n",
    "import pandas as pd\n",
    "import seaborn as sns\n",
    "import matplotlib.pyplot as plt"
   ]
  },
  {
   "cell_type": "code",
   "execution_count": 6,
   "id": "f0e5c9a3-3838-462a-97d9-5c1f4583ea28",
   "metadata": {},
   "outputs": [],
   "source": [
    "# import week05_funcs as w5f # will need to be re-run if we change the file"
   ]
  },
  {
   "cell_type": "code",
   "execution_count": 11,
   "id": "bac25c4b-7f7a-4f9c-8294-0a4fed3e9d91",
   "metadata": {},
   "outputs": [
    {
     "ename": "ModuleNotFoundError",
     "evalue": "No module named 'foo'",
     "output_type": "error",
     "traceback": [
      "Traceback \u001b[1;36m(most recent call last)\u001b[0m:\n",
      "\u001b[1;36m  Cell \u001b[1;32mIn[11], line 2\u001b[1;36m\n\u001b[1;33m    import foo\u001b[1;36m\n",
      "\u001b[1;31mModuleNotFoundError\u001b[0m\u001b[1;31m:\u001b[0m No module named 'foo'\n"
     ]
    }
   ],
   "source": [
    "import importlib\n",
    "import foo\n",
    "importlib.reload(foo)"
   ]
  },
  {
   "cell_type": "code",
   "execution_count": 32,
   "id": "ddf6a978-9311-417e-8786-6fdb03d281b3",
   "metadata": {},
   "outputs": [
    {
     "data": {
      "text/plain": [
       "False"
      ]
     },
     "execution_count": 32,
     "metadata": {},
     "output_type": "execute_result"
    }
   ],
   "source": [
    "np.array_equal(\n",
    "    forward_model(\n",
    "    np.eye(2, 2),\n",
    "    3 * np.ones(2),\n",
    "    5 * np.ones(2),\n",
    "    ),  np.array([3,3])\n",
    ")"
   ]
  },
  {
   "cell_type": "code",
   "execution_count": 33,
   "id": "5ba514bb-c171-41bc-82fd-01ed96596628",
   "metadata": {},
   "outputs": [
    {
     "data": {
      "text/plain": [
       "True"
      ]
     },
     "execution_count": 33,
     "metadata": {},
     "output_type": "execute_result"
    }
   ],
   "source": [
    "np.array_equal(\n",
    "    forward_model(\n",
    "    np.eye(2, 2),\n",
    "    3 * np.ones(2),\n",
    "    5 * np.ones(2),\n",
    "    ),  np.array([8,8])\n",
    ")"
   ]
  },
  {
   "cell_type": "code",
   "execution_count": 34,
   "id": "f2a3c1e9-ed7f-44a9-bb99-ab814b76ccd5",
   "metadata": {},
   "outputs": [
    {
     "data": {
      "text/plain": [
       "False"
      ]
     },
     "execution_count": 34,
     "metadata": {},
     "output_type": "execute_result"
    }
   ],
   "source": [
    "np.array_equal( # make sure this test case is False\n",
    "    forward_model(\n",
    "    np.eye(2, 2),\n",
    "    3 * np.ones(2),\n",
    "    5 * np.ones(2),\n",
    "    ),  np.array([15,15])\n",
    ")"
   ]
  },
  {
   "cell_type": "code",
   "execution_count": 9,
   "id": "6d22ab43-b520-47e1-87bc-87801b699bd6",
   "metadata": {},
   "outputs": [
    {
     "name": "stderr",
     "output_type": "stream",
     "text": [
      "[autoreload of week05_funcs failed: Traceback (most recent call last):\n",
      "  File \"C:\\Users\\Agonz\\mambaforge\\envs\\ee5830\\lib\\site-packages\\IPython\\extensions\\autoreload.py\", line 276, in check\n",
      "    superreload(m, reload, self.old_objects)\n",
      "  File \"C:\\Users\\Agonz\\mambaforge\\envs\\ee5830\\lib\\site-packages\\IPython\\extensions\\autoreload.py\", line 475, in superreload\n",
      "    module = reload(module)\n",
      "  File \"C:\\Users\\Agonz\\mambaforge\\envs\\ee5830\\lib\\importlib\\__init__.py\", line 169, in reload\n",
      "    _bootstrap._exec(spec, module)\n",
      "  File \"<frozen importlib._bootstrap>\", line 619, in _exec\n",
      "  File \"<frozen importlib._bootstrap_external>\", line 883, in exec_module\n",
      "  File \"<frozen importlib._bootstrap>\", line 241, in _call_with_frames_removed\n",
      "  File \"C:\\Users\\Agonz\\Downloads\\EE5830\\week05_funcs.py\", line 9, in <module>\n",
      "    class MyLinearRegression:\n",
      "  File \"C:\\Users\\Agonz\\Downloads\\EE5830\\week05_funcs.py\", line 17, in MyLinearRegression\n",
      "    def loss(cls, y_hat: ndarray, y:ndarray) -> float:\n",
      "NameError: name 'ndarray' is not defined\n",
      "]\n"
     ]
    },
    {
     "ename": "AttributeError",
     "evalue": "type object 'MyLinearRegression' has no attribute 'loss'",
     "output_type": "error",
     "traceback": [
      "Traceback \u001b[1;36m(most recent call last)\u001b[0m:\n",
      "\u001b[1;36m  Cell \u001b[1;32mIn[9], line 1\u001b[1;36m\n\u001b[1;33m    w5f.MyLinearRegression.loss(np.arrange(10), 1 + np.arrange(10))\u001b[1;36m\n",
      "\u001b[1;31mAttributeError\u001b[0m\u001b[1;31m:\u001b[0m type object 'MyLinearRegression' has no attribute 'loss'\n"
     ]
    }
   ],
   "source": [
    "w5f.MyLinearRegression.loss(np.arrange(10), 1 + np.arrange(10))"
   ]
  },
  {
   "cell_type": "code",
   "execution_count": null,
   "id": "736453c8-6a85-476c-802c-1aadf9e8c084",
   "metadata": {},
   "outputs": [],
   "source": []
  }
 ],
 "metadata": {
  "kernelspec": {
   "display_name": "Python 3 (Spyder)",
   "language": "python3",
   "name": "python3"
  },
  "language_info": {
   "codemirror_mode": {
    "name": "ipython",
    "version": 3
   },
   "file_extension": ".py",
   "mimetype": "text/x-python",
   "name": "python",
   "nbconvert_exporter": "python",
   "pygments_lexer": "ipython3",
   "version": "3.10.12"
  }
 },
 "nbformat": 4,
 "nbformat_minor": 5
}

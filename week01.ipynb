{
 "cells": [
  {
   "cell_type": "markdown",
   "id": "5c15ee8d-0334-4372-af0b-6d5f20f4770f",
   "metadata": {},
   "source": [
    "# EE 5830 Week 1"
   ]
  },
  {
   "cell_type": "code",
   "execution_count": 1,
   "id": "65c7b972-c03c-420c-a9cd-3944d85e662b",
   "metadata": {},
   "outputs": [],
   "source": [
    "import numpy as np"
   ]
  },
  {
   "cell_type": "code",
   "execution_count": 2,
   "id": "94389e8d-26a1-4f89-bf32-74cba754ae3f",
   "metadata": {},
   "outputs": [],
   "source": [
    "import torch as tch"
   ]
  },
  {
   "cell_type": "code",
   "execution_count": 3,
   "id": "7000e28b-1c8d-4867-934a-a49c3a67020a",
   "metadata": {},
   "outputs": [
    {
     "data": {
      "text/plain": [
       "array([0, 1, 2, 3, 4])"
      ]
     },
     "execution_count": 3,
     "metadata": {},
     "output_type": "execute_result"
    }
   ],
   "source": [
    "np.arange(5)"
   ]
  },
  {
   "cell_type": "code",
   "execution_count": 4,
   "id": "b7b5e724-c752-4c36-8c57-8fb6dc6a01b4",
   "metadata": {},
   "outputs": [
    {
     "data": {
      "text/plain": [
       "tensor([0, 1, 2, 3, 4])"
      ]
     },
     "execution_count": 4,
     "metadata": {},
     "output_type": "execute_result"
    }
   ],
   "source": [
    "tch.arange(5)"
   ]
  },
  {
   "cell_type": "code",
   "execution_count": 5,
   "id": "d28140c3-9a7e-4746-9c92-c1eb77a21099",
   "metadata": {},
   "outputs": [],
   "source": [
    "ints_minus_2_to_pos_10 = tch.arange(-2, 10)"
   ]
  },
  {
   "cell_type": "code",
   "execution_count": 6,
   "id": "99fe9abb-63e8-4855-8ab6-7189c409b5f1",
   "metadata": {},
   "outputs": [
    {
     "data": {
      "text/plain": [
       "tensor([-2, -1,  0,  1,  2,  3,  4,  5,  6,  7,  8,  9])"
      ]
     },
     "execution_count": 6,
     "metadata": {},
     "output_type": "execute_result"
    }
   ],
   "source": [
    "ints_minus_2_to_pos_10"
   ]
  },
  {
   "cell_type": "code",
   "execution_count": 7,
   "id": "0d472f5e-7499-44e4-8989-af1ef27c3a2b",
   "metadata": {},
   "outputs": [],
   "source": [
    "np_ints_minus_2_to_pos_10 = np.arange(-2, 10)"
   ]
  },
  {
   "cell_type": "code",
   "execution_count": 8,
   "id": "8c1dd3b8-afa9-4c2a-abd8-3e25c892cb4a",
   "metadata": {},
   "outputs": [
    {
     "data": {
      "text/plain": [
       "'C:\\\\Users\\\\Agonz\\\\Downloads\\\\EE5830\\\\week01'"
      ]
     },
     "execution_count": 8,
     "metadata": {},
     "output_type": "execute_result"
    }
   ],
   "source": [
    "import os\n",
    "\n",
    "os.path.realpath('.')"
   ]
  },
  {
   "cell_type": "code",
   "execution_count": 9,
   "id": "dc4bfa2f-58d0-4717-9f6f-da57b2050ce0",
   "metadata": {},
   "outputs": [],
   "source": [
    "my_csv_file_contents = '''NumRooms,RoofType,Price\n",
    "NA,NA,127500\n",
    "2,NA,106000\n",
    "4,Slate,178100\n",
    "NA,NA,140000'''\n",
    "\n",
    "import io\n",
    "\n",
    "pretend_csv_file = io.StringIO(my_csv_file_contents)"
   ]
  },
  {
   "cell_type": "code",
   "execution_count": 10,
   "id": "bb70316c-6754-41b6-859f-7a76be7a41be",
   "metadata": {},
   "outputs": [],
   "source": [
    "import pandas as pd"
   ]
  },
  {
   "cell_type": "code",
   "execution_count": 11,
   "id": "8e8975f5-f3e5-4e2c-bcdf-0145714f0a67",
   "metadata": {},
   "outputs": [
    {
     "data": {
      "text/html": [
       "<div>\n",
       "<style scoped>\n",
       "    .dataframe tbody tr th:only-of-type {\n",
       "        vertical-align: middle;\n",
       "    }\n",
       "\n",
       "    .dataframe tbody tr th {\n",
       "        vertical-align: top;\n",
       "    }\n",
       "\n",
       "    .dataframe thead th {\n",
       "        text-align: right;\n",
       "    }\n",
       "</style>\n",
       "<table border=\"1\" class=\"dataframe\">\n",
       "  <thead>\n",
       "    <tr style=\"text-align: right;\">\n",
       "      <th></th>\n",
       "      <th>NumRooms</th>\n",
       "      <th>RoofType</th>\n",
       "      <th>Price</th>\n",
       "    </tr>\n",
       "  </thead>\n",
       "  <tbody>\n",
       "    <tr>\n",
       "      <th>0</th>\n",
       "      <td>NaN</td>\n",
       "      <td>NaN</td>\n",
       "      <td>127500</td>\n",
       "    </tr>\n",
       "    <tr>\n",
       "      <th>1</th>\n",
       "      <td>2.0</td>\n",
       "      <td>NaN</td>\n",
       "      <td>106000</td>\n",
       "    </tr>\n",
       "    <tr>\n",
       "      <th>2</th>\n",
       "      <td>4.0</td>\n",
       "      <td>Slate</td>\n",
       "      <td>178100</td>\n",
       "    </tr>\n",
       "    <tr>\n",
       "      <th>3</th>\n",
       "      <td>NaN</td>\n",
       "      <td>NaN</td>\n",
       "      <td>140000</td>\n",
       "    </tr>\n",
       "  </tbody>\n",
       "</table>\n",
       "</div>"
      ],
      "text/plain": [
       "   NumRooms RoofType   Price\n",
       "0       NaN      NaN  127500\n",
       "1       2.0      NaN  106000\n",
       "2       4.0    Slate  178100\n",
       "3       NaN      NaN  140000"
      ]
     },
     "execution_count": 11,
     "metadata": {},
     "output_type": "execute_result"
    }
   ],
   "source": [
    "pd.read_csv(pretend_csv_file)"
   ]
  },
  {
   "cell_type": "code",
   "execution_count": 12,
   "id": "708c38a0-df58-411a-bb45-a56144190a04",
   "metadata": {},
   "outputs": [
    {
     "ename": "EmptyDataError",
     "evalue": "No columns to parse from file",
     "output_type": "error",
     "traceback": [
      "Traceback \u001b[1;36m(most recent call last)\u001b[0m:\n",
      "\u001b[0m  Cell \u001b[0;32mIn[12], line 1\u001b[0m\n    type(pd.read_csv(pretend_csv_file))\u001b[0m\n",
      "\u001b[0m  File \u001b[0;32m~\\mambaforge\\envs\\ee5830\\lib\\site-packages\\pandas\\io\\parsers\\readers.py:912\u001b[0m in \u001b[0;35mread_csv\u001b[0m\n    return _read(filepath_or_buffer, kwds)\u001b[0m\n",
      "\u001b[0m  File \u001b[0;32m~\\mambaforge\\envs\\ee5830\\lib\\site-packages\\pandas\\io\\parsers\\readers.py:577\u001b[0m in \u001b[0;35m_read\u001b[0m\n    parser = TextFileReader(filepath_or_buffer, **kwds)\u001b[0m\n",
      "\u001b[0m  File \u001b[0;32m~\\mambaforge\\envs\\ee5830\\lib\\site-packages\\pandas\\io\\parsers\\readers.py:1407\u001b[0m in \u001b[0;35m__init__\u001b[0m\n    self._engine = self._make_engine(f, self.engine)\u001b[0m\n",
      "\u001b[0m  File \u001b[0;32m~\\mambaforge\\envs\\ee5830\\lib\\site-packages\\pandas\\io\\parsers\\readers.py:1679\u001b[0m in \u001b[0;35m_make_engine\u001b[0m\n    return mapping[engine](f, **self.options)\u001b[0m\n",
      "\u001b[0m  File \u001b[0;32m~\\mambaforge\\envs\\ee5830\\lib\\site-packages\\pandas\\io\\parsers\\c_parser_wrapper.py:93\u001b[0m in \u001b[0;35m__init__\u001b[0m\n    self._reader = parsers.TextReader(src, **kwds)\u001b[0m\n",
      "\u001b[1;36m  File \u001b[1;32mpandas\\_libs\\parsers.pyx:557\u001b[1;36m in \u001b[1;35mpandas._libs.parsers.TextReader.__cinit__\u001b[1;36m\n",
      "\u001b[1;31mEmptyDataError\u001b[0m\u001b[1;31m:\u001b[0m No columns to parse from file\n"
     ]
    }
   ],
   "source": [
    "type(pd.read_csv(pretend_csv_file))"
   ]
  },
  {
   "cell_type": "code",
   "execution_count": 13,
   "id": "d4ad7396-a804-4b7e-80a1-85933e4e2420",
   "metadata": {},
   "outputs": [
    {
     "data": {
      "text/plain": [
       "array([1, 2, 4, 6])"
      ]
     },
     "execution_count": 13,
     "metadata": {},
     "output_type": "execute_result"
    }
   ],
   "source": [
    "np.array([1, 2, 4, 6])"
   ]
  },
  {
   "cell_type": "code",
   "execution_count": 14,
   "id": "eb9eb941-59fb-4874-b58b-ec1855fb5300",
   "metadata": {},
   "outputs": [],
   "source": [
    "some_arr = np.array([1, 2, 4, 6]).reshape(-1,1)"
   ]
  },
  {
   "cell_type": "code",
   "execution_count": 15,
   "id": "6c3499cc-edf4-4290-bcfd-e1d2e0b1af9d",
   "metadata": {},
   "outputs": [
    {
     "data": {
      "text/plain": [
       "array([[1],\n",
       "       [2],\n",
       "       [4],\n",
       "       [6]])"
      ]
     },
     "execution_count": 15,
     "metadata": {},
     "output_type": "execute_result"
    }
   ],
   "source": [
    "some_arr"
   ]
  },
  {
   "cell_type": "code",
   "execution_count": 16,
   "id": "3c28766c-c1dc-4e09-83ed-cbd1cc69f2e8",
   "metadata": {},
   "outputs": [
    {
     "data": {
      "text/plain": [
       "(4, 1)"
      ]
     },
     "execution_count": 16,
     "metadata": {},
     "output_type": "execute_result"
    }
   ],
   "source": [
    "some_arr.shape"
   ]
  },
  {
   "cell_type": "code",
   "execution_count": 17,
   "id": "61fe1564-38b4-4a32-993b-d3e1493697fd",
   "metadata": {},
   "outputs": [
    {
     "data": {
      "text/plain": [
       "(1, 4)"
      ]
     },
     "execution_count": 17,
     "metadata": {},
     "output_type": "execute_result"
    }
   ],
   "source": [
    "some_arr.T.shape"
   ]
  },
  {
   "cell_type": "code",
   "execution_count": 18,
   "id": "e1aee1d1-ec1a-45dc-bc89-911cb11fa401",
   "metadata": {},
   "outputs": [
    {
     "data": {
      "text/plain": [
       "(1, 4)"
      ]
     },
     "execution_count": 18,
     "metadata": {},
     "output_type": "execute_result"
    }
   ],
   "source": [
    "some_arr.reshape((1,4)).shape"
   ]
  },
  {
   "cell_type": "code",
   "execution_count": 19,
   "id": "0f32ad24-dc47-41b6-a552-76e671684786",
   "metadata": {},
   "outputs": [],
   "source": [
    "new_copy_some_arr = some_arr.reshape((1,4)).copy()"
   ]
  },
  {
   "cell_type": "code",
   "execution_count": 20,
   "id": "8f8d3916-3682-418a-bc93-503bef28d7ed",
   "metadata": {},
   "outputs": [],
   "source": [
    "new_copy_some_arr_equiv = np.copy(np.reshape(some_arr,(1,4)))"
   ]
  },
  {
   "cell_type": "code",
   "execution_count": 21,
   "id": "0af694ad-b259-4abf-a079-0b992eb37f54",
   "metadata": {},
   "outputs": [
    {
     "data": {
      "text/plain": [
       "array([[ True],\n",
       "       [ True],\n",
       "       [ True],\n",
       "       [ True]])"
      ]
     },
     "execution_count": 21,
     "metadata": {},
     "output_type": "execute_result"
    }
   ],
   "source": [
    "(np.log(np.square(some_arr)) == 2.*np.log(some_arr)) & (np.log(np.square(some_arr)) == np.log(some_arr * some_arr))"
   ]
  },
  {
   "cell_type": "code",
   "execution_count": 22,
   "id": "b9b6dba3-d7d9-4887-abc8-88e14884159c",
   "metadata": {},
   "outputs": [],
   "source": [
    "import sklearn.datasets"
   ]
  },
  {
   "cell_type": "code",
   "execution_count": 23,
   "id": "2948b99f-f84e-4506-b419-1d0e1c4ed1be",
   "metadata": {},
   "outputs": [
    {
     "data": {
      "text/plain": [
       "{'data': array([[ 0.03807591,  0.05068012,  0.06169621, ..., -0.00259226,\n",
       "          0.01990749, -0.01764613],\n",
       "        [-0.00188202, -0.04464164, -0.05147406, ..., -0.03949338,\n",
       "         -0.06833155, -0.09220405],\n",
       "        [ 0.08529891,  0.05068012,  0.04445121, ..., -0.00259226,\n",
       "          0.00286131, -0.02593034],\n",
       "        ...,\n",
       "        [ 0.04170844,  0.05068012, -0.01590626, ..., -0.01107952,\n",
       "         -0.04688253,  0.01549073],\n",
       "        [-0.04547248, -0.04464164,  0.03906215, ...,  0.02655962,\n",
       "          0.04452873, -0.02593034],\n",
       "        [-0.04547248, -0.04464164, -0.0730303 , ..., -0.03949338,\n",
       "         -0.00422151,  0.00306441]]),\n",
       " 'target': array([151.,  75., 141., 206., 135.,  97., 138.,  63., 110., 310., 101.,\n",
       "         69., 179., 185., 118., 171., 166., 144.,  97., 168.,  68.,  49.,\n",
       "         68., 245., 184., 202., 137.,  85., 131., 283., 129.,  59., 341.,\n",
       "         87.,  65., 102., 265., 276., 252.,  90., 100.,  55.,  61.,  92.,\n",
       "        259.,  53., 190., 142.,  75., 142., 155., 225.,  59., 104., 182.,\n",
       "        128.,  52.,  37., 170., 170.,  61., 144.,  52., 128.,  71., 163.,\n",
       "        150.,  97., 160., 178.,  48., 270., 202., 111.,  85.,  42., 170.,\n",
       "        200., 252., 113., 143.,  51.,  52., 210.,  65., 141.,  55., 134.,\n",
       "         42., 111.,  98., 164.,  48.,  96.,  90., 162., 150., 279.,  92.,\n",
       "         83., 128., 102., 302., 198.,  95.,  53., 134., 144., 232.,  81.,\n",
       "        104.,  59., 246., 297., 258., 229., 275., 281., 179., 200., 200.,\n",
       "        173., 180.,  84., 121., 161.,  99., 109., 115., 268., 274., 158.,\n",
       "        107.,  83., 103., 272.,  85., 280., 336., 281., 118., 317., 235.,\n",
       "         60., 174., 259., 178., 128.,  96., 126., 288.,  88., 292.,  71.,\n",
       "        197., 186.,  25.,  84.,  96., 195.,  53., 217., 172., 131., 214.,\n",
       "         59.,  70., 220., 268., 152.,  47.,  74., 295., 101., 151., 127.,\n",
       "        237., 225.,  81., 151., 107.,  64., 138., 185., 265., 101., 137.,\n",
       "        143., 141.,  79., 292., 178.,  91., 116.,  86., 122.,  72., 129.,\n",
       "        142.,  90., 158.,  39., 196., 222., 277.,  99., 196., 202., 155.,\n",
       "         77., 191.,  70.,  73.,  49.,  65., 263., 248., 296., 214., 185.,\n",
       "         78.,  93., 252., 150.,  77., 208.,  77., 108., 160.,  53., 220.,\n",
       "        154., 259.,  90., 246., 124.,  67.,  72., 257., 262., 275., 177.,\n",
       "         71.,  47., 187., 125.,  78.,  51., 258., 215., 303., 243.,  91.,\n",
       "        150., 310., 153., 346.,  63.,  89.,  50.,  39., 103., 308., 116.,\n",
       "        145.,  74.,  45., 115., 264.,  87., 202., 127., 182., 241.,  66.,\n",
       "         94., 283.,  64., 102., 200., 265.,  94., 230., 181., 156., 233.,\n",
       "         60., 219.,  80.,  68., 332., 248.,  84., 200.,  55.,  85.,  89.,\n",
       "         31., 129.,  83., 275.,  65., 198., 236., 253., 124.,  44., 172.,\n",
       "        114., 142., 109., 180., 144., 163., 147.,  97., 220., 190., 109.,\n",
       "        191., 122., 230., 242., 248., 249., 192., 131., 237.,  78., 135.,\n",
       "        244., 199., 270., 164.,  72.,  96., 306.,  91., 214.,  95., 216.,\n",
       "        263., 178., 113., 200., 139., 139.,  88., 148.,  88., 243.,  71.,\n",
       "         77., 109., 272.,  60.,  54., 221.,  90., 311., 281., 182., 321.,\n",
       "         58., 262., 206., 233., 242., 123., 167.,  63., 197.,  71., 168.,\n",
       "        140., 217., 121., 235., 245.,  40.,  52., 104., 132.,  88.,  69.,\n",
       "        219.,  72., 201., 110.,  51., 277.,  63., 118.,  69., 273., 258.,\n",
       "         43., 198., 242., 232., 175.,  93., 168., 275., 293., 281.,  72.,\n",
       "        140., 189., 181., 209., 136., 261., 113., 131., 174., 257.,  55.,\n",
       "         84.,  42., 146., 212., 233.,  91., 111., 152., 120.,  67., 310.,\n",
       "         94., 183.,  66., 173.,  72.,  49.,  64.,  48., 178., 104., 132.,\n",
       "        220.,  57.]),\n",
       " 'frame': None,\n",
       " 'DESCR': '.. _diabetes_dataset:\\n\\nDiabetes dataset\\n----------------\\n\\nTen baseline variables, age, sex, body mass index, average blood\\npressure, and six blood serum measurements were obtained for each of n =\\n442 diabetes patients, as well as the response of interest, a\\nquantitative measure of disease progression one year after baseline.\\n\\n**Data Set Characteristics:**\\n\\n  :Number of Instances: 442\\n\\n  :Number of Attributes: First 10 columns are numeric predictive values\\n\\n  :Target: Column 11 is a quantitative measure of disease progression one year after baseline\\n\\n  :Attribute Information:\\n      - age     age in years\\n      - sex\\n      - bmi     body mass index\\n      - bp      average blood pressure\\n      - s1      tc, total serum cholesterol\\n      - s2      ldl, low-density lipoproteins\\n      - s3      hdl, high-density lipoproteins\\n      - s4      tch, total cholesterol / HDL\\n      - s5      ltg, possibly log of serum triglycerides level\\n      - s6      glu, blood sugar level\\n\\nNote: Each of these 10 feature variables have been mean centered and scaled by the standard deviation times the square root of `n_samples` (i.e. the sum of squares of each column totals 1).\\n\\nSource URL:\\nhttps://www4.stat.ncsu.edu/~boos/var.select/diabetes.html\\n\\nFor more information see:\\nBradley Efron, Trevor Hastie, Iain Johnstone and Robert Tibshirani (2004) \"Least Angle Regression,\" Annals of Statistics (with discussion), 407-499.\\n(https://web.stanford.edu/~hastie/Papers/LARS/LeastAngle_2002.pdf)\\n',\n",
       " 'feature_names': ['age',\n",
       "  'sex',\n",
       "  'bmi',\n",
       "  'bp',\n",
       "  's1',\n",
       "  's2',\n",
       "  's3',\n",
       "  's4',\n",
       "  's5',\n",
       "  's6'],\n",
       " 'data_filename': 'diabetes_data_raw.csv.gz',\n",
       " 'target_filename': 'diabetes_target.csv.gz',\n",
       " 'data_module': 'sklearn.datasets.data'}"
      ]
     },
     "execution_count": 23,
     "metadata": {},
     "output_type": "execute_result"
    }
   ],
   "source": [
    "sklearn.datasets.load_diabetes()"
   ]
  },
  {
   "cell_type": "code",
   "execution_count": 24,
   "id": "a4b587e7-16cd-4e81-ac69-7ca7c42affaa",
   "metadata": {},
   "outputs": [
    {
     "data": {
      "text/plain": [
       "array([[ 0.03807591,  0.05068012,  0.06169621, ..., -0.00259226,\n",
       "         0.01990749, -0.01764613],\n",
       "       [-0.00188202, -0.04464164, -0.05147406, ..., -0.03949338,\n",
       "        -0.06833155, -0.09220405],\n",
       "       [ 0.08529891,  0.05068012,  0.04445121, ..., -0.00259226,\n",
       "         0.00286131, -0.02593034],\n",
       "       ...,\n",
       "       [ 0.04170844,  0.05068012, -0.01590626, ..., -0.01107952,\n",
       "        -0.04688253,  0.01549073],\n",
       "       [-0.04547248, -0.04464164,  0.03906215, ...,  0.02655962,\n",
       "         0.04452873, -0.02593034],\n",
       "       [-0.04547248, -0.04464164, -0.0730303 , ..., -0.03949338,\n",
       "        -0.00422151,  0.00306441]])"
      ]
     },
     "execution_count": 24,
     "metadata": {},
     "output_type": "execute_result"
    }
   ],
   "source": [
    "sklearn.datasets.load_diabetes()['data']"
   ]
  },
  {
   "cell_type": "code",
   "execution_count": 25,
   "id": "9d0e66ac-88cc-421d-a237-d062cc0b997a",
   "metadata": {},
   "outputs": [
    {
     "data": {
      "text/plain": [
       "'.. _diabetes_dataset:\\n\\nDiabetes dataset\\n----------------\\n\\nTen baseline variables, age, sex, body mass index, average blood\\npressure, and six blood serum measurements were obtained for each of n =\\n442 diabetes patients, as well as the response of interest, a\\nquantitative measure of disease progression one year after baseline.\\n\\n**Data Set Characteristics:**\\n\\n  :Number of Instances: 442\\n\\n  :Number of Attributes: First 10 columns are numeric predictive values\\n\\n  :Target: Column 11 is a quantitative measure of disease progression one year after baseline\\n\\n  :Attribute Information:\\n      - age     age in years\\n      - sex\\n      - bmi     body mass index\\n      - bp      average blood pressure\\n      - s1      tc, total serum cholesterol\\n      - s2      ldl, low-density lipoproteins\\n      - s3      hdl, high-density lipoproteins\\n      - s4      tch, total cholesterol / HDL\\n      - s5      ltg, possibly log of serum triglycerides level\\n      - s6      glu, blood sugar level\\n\\nNote: Each of these 10 feature variables have been mean centered and scaled by the standard deviation times the square root of `n_samples` (i.e. the sum of squares of each column totals 1).\\n\\nSource URL:\\nhttps://www4.stat.ncsu.edu/~boos/var.select/diabetes.html\\n\\nFor more information see:\\nBradley Efron, Trevor Hastie, Iain Johnstone and Robert Tibshirani (2004) \"Least Angle Regression,\" Annals of Statistics (with discussion), 407-499.\\n(https://web.stanford.edu/~hastie/Papers/LARS/LeastAngle_2002.pdf)\\n'"
      ]
     },
     "execution_count": 25,
     "metadata": {},
     "output_type": "execute_result"
    }
   ],
   "source": [
    "sklearn.datasets.load_diabetes()['DESCR']"
   ]
  },
  {
   "cell_type": "code",
   "execution_count": 26,
   "id": "581b881b-7c6b-4519-9d16-8737a6e7f759",
   "metadata": {},
   "outputs": [],
   "source": [
    "df_X_diabetes = sklearn.datasets.load_diabetes(as_frame=True)['data']\n",
    "df_y_diabetes = sklearn.datasets.load_diabetes(as_frame=True)['target']"
   ]
  },
  {
   "cell_type": "code",
   "execution_count": 27,
   "id": "f62790d3-34c9-495b-95f5-18193ed5ba9d",
   "metadata": {},
   "outputs": [
    {
     "data": {
      "text/plain": [
       "0      0.380759\n",
       "1     -0.018820\n",
       "2      0.852989\n",
       "3     -0.890629\n",
       "4      0.053831\n",
       "         ...   \n",
       "437    0.417084\n",
       "438   -0.055146\n",
       "439    0.417084\n",
       "440   -0.454725\n",
       "441   -0.454725\n",
       "Name: age, Length: 442, dtype: float64"
      ]
     },
     "execution_count": 27,
     "metadata": {},
     "output_type": "execute_result"
    }
   ],
   "source": [
    "10*df_X_diabetes['age']"
   ]
  },
  {
   "cell_type": "code",
   "execution_count": 28,
   "id": "d674541b-f6ed-4397-8641-6430cf172baa",
   "metadata": {},
   "outputs": [],
   "source": [
    "df_X_diabetes['age10'] = 10*df_X_diabetes['age'] # Note: always save transforms in a new column"
   ]
  },
  {
   "cell_type": "code",
   "execution_count": 29,
   "id": "5cd235b5-a0e5-4c93-aede-9aca2f985497",
   "metadata": {},
   "outputs": [],
   "source": [
    "import seaborn as sns"
   ]
  },
  {
   "cell_type": "code",
   "execution_count": 30,
   "id": "ce9fb894-78e6-4cf0-9401-8c954a33a6ec",
   "metadata": {},
   "outputs": [
    {
     "data": {
      "text/plain": [
       "<Axes: xlabel='age', ylabel='age10'>"
      ]
     },
     "execution_count": 30,
     "metadata": {},
     "output_type": "execute_result"
    },
    {
     "data": {
      "image/png": "[encoded data removed]",
      "text/plain": [
       "<Figure size 432x288 with 1 Axes>"
      ]
     },
     "metadata": {},
     "output_type": "display_data"
    }
   ],
   "source": [
    "sns.scatterplot(df_X_diabetes, x = 'age', y = 'age10')\n",
    "\n",
    "# Note"
   ]
  },
  {
   "cell_type": "code",
   "execution_count": null,
   "id": "c3b68b9e-60d4-499a-b16c-204e7ff2e8b9",
   "metadata": {},
   "outputs": [],
   "source": []
  },
  {
   "cell_type": "code",
   "execution_count": null,
   "id": "1f520963-86cb-4217-89b7-36159976f60e",
   "metadata": {},
   "outputs": [],
   "source": []
  }
 ],
 "metadata": {
  "kernelspec": {
   "display_name": "Python 3 (Spyder)",
   "language": "python3",
   "name": "python3"
  },
  "language_info": {
   "codemirror_mode": {
    "name": "ipython",
    "version": 3
   },
   "file_extension": ".py",
   "mimetype": "text/x-python",
   "name": "python",
   "nbconvert_exporter": "python",
   "pygments_lexer": "ipython3",
   "version": "3.10.12"
  }
 },
 "nbformat": 4,
 "nbformat_minor": 5
}

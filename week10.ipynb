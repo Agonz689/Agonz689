{
 "cells": [
  {
   "cell_type": "markdown",
   "id": "ccac0df0",
   "metadata": {},
   "source": [
    "# Week 10: Convolutional Layers in PyTorch"
   ]
  },
  {
   "cell_type": "code",
   "execution_count": 58,
   "id": "5a345689",
   "metadata": {},
   "outputs": [],
   "source": [
    "import sklearn.datasets\n",
    "import sklearn.model_selection\n",
    "import sklearn.feature_selection\n",
    "import sklearn.pipeline\n",
    "import sklearn.preprocessing\n",
    "import numpy as np\n",
    "import matplotlib.pyplot as plt\n",
    "import seaborn as sns\n",
    "import torch\n",
    "import torch.nn\n",
    "import torch.nn.functional\n",
    "import skorch"
   ]
  },
  {
   "cell_type": "code",
   "execution_count": 59,
   "id": "ce7a9c87",
   "metadata": {},
   "outputs": [
    {
     "data": {
      "text/plain": [
       "<module 'week10_funcs' from '/home/curt/OneDrive/Faculty/2023-fall/ee5830/week10_funcs.py'>"
      ]
     },
     "execution_count": 59,
     "metadata": {},
     "output_type": "execute_result"
    }
   ],
   "source": [
    "import importlib\n",
    "import week10_funcs as w10f\n",
    "importlib.reload(w10f)"
   ]
  },
  {
   "cell_type": "markdown",
   "id": "079c3c71",
   "metadata": {},
   "source": [
    "## MNIST setup"
   ]
  },
  {
   "cell_type": "code",
   "execution_count": 60,
   "id": "b224dc28",
   "metadata": {},
   "outputs": [
    {
     "name": "stderr",
     "output_type": "stream",
     "text": [
      "/home/curt/mambaforge/lib/python3.10/site-packages/sklearn/datasets/_openml.py:1022: FutureWarning: The default value of `parser` will change from `'liac-arff'` to `'auto'` in 1.4. You can set `parser='auto'` to silence this warning. Therefore, an `ImportError` will be raised from 1.4 if the dataset is dense and pandas is not installed. Note that the pandas parser may return different data types. See the Notes Section in fetch_openml's API doc for details.\n",
      "  warn(\n"
     ]
    }
   ],
   "source": [
    "bunch_mnist = sklearn.datasets.fetch_openml(\n",
    "    data_id=554,\n",
    "    as_frame=False\n",
    ")"
   ]
  },
  {
   "cell_type": "code",
   "execution_count": 61,
   "id": "789be827",
   "metadata": {},
   "outputs": [
    {
     "data": {
      "text/plain": [
       "(70000, 784)"
      ]
     },
     "execution_count": 61,
     "metadata": {},
     "output_type": "execute_result"
    }
   ],
   "source": [
    "bunch_mnist.data.shape"
   ]
  },
  {
   "cell_type": "code",
   "execution_count": 62,
   "id": "92e88bf7",
   "metadata": {},
   "outputs": [
    {
     "data": {
      "text/plain": [
       "(70000,)"
      ]
     },
     "execution_count": 62,
     "metadata": {},
     "output_type": "execute_result"
    }
   ],
   "source": [
    "bunch_mnist.target.shape"
   ]
  },
  {
   "cell_type": "code",
   "execution_count": 63,
   "id": "612a1b81",
   "metadata": {},
   "outputs": [],
   "source": [
    "mnist_X = bunch_mnist.data.astype('float32')\n",
    "mnist_y = bunch_mnist.target.astype('int64')  # why did they recommend int64?"
   ]
  },
  {
   "cell_type": "code",
   "execution_count": 64,
   "id": "bf8436b4",
   "metadata": {},
   "outputs": [],
   "source": [
    "mnist_X_cnn = mnist_X.reshape(-1, 1, 28, 28)"
   ]
  },
  {
   "cell_type": "code",
   "execution_count": 65,
   "id": "f9eb1df9",
   "metadata": {},
   "outputs": [],
   "source": [
    "mnist_X_train, mnist_X_test, mnist_y_train, mnist_y_test = sklearn.model_selection.train_test_split(\n",
    "    mnist_X_cnn,\n",
    "    mnist_y,\n",
    "    test_size=0.3,\n",
    "    random_state=7\n",
    ")"
   ]
  },
  {
   "cell_type": "code",
   "execution_count": 66,
   "id": "706d426b",
   "metadata": {},
   "outputs": [
    {
     "data": {
      "text/plain": [
       "((49000, 1, 28, 28), dtype('float32'), (49000,), dtype('int64'))"
      ]
     },
     "execution_count": 66,
     "metadata": {},
     "output_type": "execute_result"
    }
   ],
   "source": [
    "mnist_X_train.shape, mnist_X_train.dtype, mnist_y_train.shape, mnist_y_train.dtype"
   ]
  },
  {
   "cell_type": "markdown",
   "id": "57be5a67",
   "metadata": {},
   "source": [
    "## MNIST using Convolutional network"
   ]
  },
  {
   "cell_type": "code",
   "execution_count": 67,
   "id": "0c26ba3a",
   "metadata": {},
   "outputs": [],
   "source": [
    "torch.manual_seed(7)\n",
    "\n",
    "cnn = skorch.NeuralNetClassifier(\n",
    "    w10f.ClayClassifierModule,\n",
    "    max_epochs=10,\n",
    "    lr=0.002,\n",
    "    optimizer=torch.optim.Adam,\n",
    ")"
   ]
  },
  {
   "cell_type": "code",
   "execution_count": 68,
   "id": "5c44285f",
   "metadata": {},
   "outputs": [],
   "source": [
    "mnist_n_outputs = len(np.unique(mnist_y))\n",
    "\n",
    "cnn.module__n_input_channels = 1  # only one channel in MNIST\n",
    "cnn.module__n_output_probs = mnist_n_outputs\n",
    "cnn.module__input_img_height = mnist_X_train.shape[-1]"
   ]
  },
  {
   "cell_type": "code",
   "execution_count": 69,
   "id": "6a175a4a",
   "metadata": {},
   "outputs": [
    {
     "name": "stdout",
     "output_type": "stream",
     "text": [
      "  epoch    train_loss    valid_acc    valid_loss     dur\n",
      "-------  ------------  -----------  ------------  ------\n",
      "      1        \u001b[36m1.9251\u001b[0m       \u001b[32m0.9639\u001b[0m        \u001b[35m0.1447\u001b[0m  7.2985\n",
      "      2        \u001b[36m0.1147\u001b[0m       \u001b[32m0.9798\u001b[0m        \u001b[35m0.0740\u001b[0m  7.8401\n",
      "      3        \u001b[36m0.0898\u001b[0m       0.9790        0.0775  6.8086\n",
      "      4        \u001b[36m0.0738\u001b[0m       \u001b[32m0.9839\u001b[0m        \u001b[35m0.0583\u001b[0m  6.7103\n",
      "      5        \u001b[36m0.0674\u001b[0m       \u001b[32m0.9847\u001b[0m        \u001b[35m0.0553\u001b[0m  6.9185\n",
      "      6        \u001b[36m0.0588\u001b[0m       \u001b[32m0.9861\u001b[0m        \u001b[35m0.0532\u001b[0m  6.7461\n",
      "      7        0.0603       0.9855        \u001b[35m0.0515\u001b[0m  6.7290\n",
      "      8        \u001b[36m0.0577\u001b[0m       \u001b[32m0.9862\u001b[0m        \u001b[35m0.0510\u001b[0m  6.6963\n",
      "      9        \u001b[36m0.0516\u001b[0m       \u001b[32m0.9880\u001b[0m        \u001b[35m0.0472\u001b[0m  6.7866\n",
      "     10        \u001b[36m0.0489\u001b[0m       0.9846        0.0547  6.7585\n"
     ]
    },
    {
     "data": {
      "text/plain": [
       "<class 'skorch.classifier.NeuralNetClassifier'>[initialized](\n",
       "  module_=ClayClassifierModule(\n",
       "    (conv_network): ModuleList(\n",
       "      (0): Conv2d(1, 32, kernel_size=(6, 6), stride=(1, 1))\n",
       "      (1): MaxPool2d(kernel_size=2, stride=2, padding=0, dilation=1, ceil_mode=False)\n",
       "      (2): Conv2d(32, 64, kernel_size=(6, 6), stride=(1, 1))\n",
       "      (3): Dropout(p=0.5, inplace=False)\n",
       "      (4): MaxPool2d(kernel_size=2, stride=2, padding=0, dilation=1, ceil_mode=False)\n",
       "    )\n",
       "    (dense_network): ModuleList(\n",
       "      (0): Linear(in_features=576, out_features=100, bias=True)\n",
       "      (1-2): 2 x Linear(in_features=100, out_features=100, bias=True)\n",
       "    )\n",
       "    (output): Linear(in_features=100, out_features=1, bias=True)\n",
       "  ),\n",
       ")"
      ]
     },
     "execution_count": 69,
     "metadata": {},
     "output_type": "execute_result"
    }
   ],
   "source": [
    "cnn.fit(mnist_X_train, mnist_y_train)"
   ]
  },
  {
   "cell_type": "markdown",
   "id": "68c35ba6",
   "metadata": {},
   "source": [
    "### Which ones were mispredicted?"
   ]
  },
  {
   "cell_type": "code",
   "execution_count": 70,
   "id": "15d86e8d",
   "metadata": {},
   "outputs": [],
   "source": [
    "mnist_y_pred = cnn.predict(mnist_X_test)  # , mnist_y_test)"
   ]
  },
  {
   "cell_type": "code",
   "execution_count": 71,
   "id": "ef5e5508",
   "metadata": {},
   "outputs": [
    {
     "data": {
      "text/plain": [
       "array([2, 2, 9, ..., 4, 9, 5])"
      ]
     },
     "execution_count": 71,
     "metadata": {},
     "output_type": "execute_result"
    }
   ],
   "source": [
    "mnist_y_test"
   ]
  },
  {
   "cell_type": "code",
   "execution_count": 72,
   "id": "4f65225a",
   "metadata": {},
   "outputs": [
    {
     "data": {
      "text/plain": [
       "(array([    6,    47,    75,   141,   170,   290,   390,   418,   606,\n",
       "          750,   790,   835,   846,   898,   944,  1075,  1080,  1122,\n",
       "         1146,  1262,  1316,  1414,  1495,  1513,  1564,  1651,  1662,\n",
       "         1706,  1828,  1883,  1993,  2022,  2057,  2183,  2269,  2271,\n",
       "         2274,  2288,  2341,  2385,  2469,  2513,  2747,  2884,  2894,\n",
       "         2980,  3027,  3042,  3050,  3089,  3130,  3254,  3267,  3282,\n",
       "         3325,  3477,  3617,  3721,  3850,  4097,  4192,  4238,  4339,\n",
       "         4368,  4675,  4728,  4732,  4815,  4960,  5006,  5013,  5053,\n",
       "         5225,  5229,  5284,  5306,  5359,  5637,  5663,  5668,  5823,\n",
       "         5895,  5947,  6024,  6035,  6037,  6295,  6309,  6326,  6334,\n",
       "         6349,  6370,  6459,  6486,  6625,  6704,  6744,  6828,  6834,\n",
       "         6842,  7117,  7150,  7188,  7587,  7603,  7608,  7609,  7758,\n",
       "         7807,  8016,  8163,  8168,  8176,  8194,  8237,  8295,  8297,\n",
       "         8396,  8397,  8550,  8595,  8624,  8653,  8663,  8667,  8714,\n",
       "         8733,  8762,  8781,  8806,  8883,  8915,  8924,  8968,  8969,\n",
       "         9089,  9136,  9263,  9296,  9317,  9330,  9539,  9544,  9722,\n",
       "         9747,  9757, 10006, 10032, 10211, 10242, 10277, 10291, 10327,\n",
       "        10356, 10468, 10580, 10617, 10652, 10787, 10913, 11020, 11104,\n",
       "        11179, 11190, 11286, 11292, 11299, 11315, 11322, 11786, 11810,\n",
       "        11970, 12059, 12097, 12326, 12371, 12427, 12447, 12475, 12500,\n",
       "        12592, 12631, 12678, 12727, 12759, 12849, 13043, 13249, 13265,\n",
       "        13278, 13286, 13372, 13572, 13580, 13585, 13677, 13846, 13921,\n",
       "        14013, 14028, 14046, 14083, 14272, 14430, 14544, 14598, 14636,\n",
       "        14715, 14835, 14952, 15051, 15117, 15289, 15304, 15310, 15329,\n",
       "        15341, 15488, 15490, 15492, 15555, 15577, 15648, 15654, 15790,\n",
       "        15807, 15831, 15876, 16066, 16095, 16155, 16207, 16226, 16230,\n",
       "        16255, 16292, 16578, 16596, 16801, 16850, 16917, 16954, 16966,\n",
       "        17021, 17082, 17122, 17247, 17261, 17297, 17321, 17369, 17555,\n",
       "        17566, 17659, 17889, 17897, 18023, 18033, 18189, 18199, 18465,\n",
       "        18492, 18549, 18727, 18805, 18850, 19095, 19358, 19515, 19724,\n",
       "        19731, 19811, 19834, 19840, 20023, 20110, 20148, 20151, 20232,\n",
       "        20278, 20309, 20315, 20343, 20398, 20838, 20965]),)"
      ]
     },
     "execution_count": 72,
     "metadata": {},
     "output_type": "execute_result"
    }
   ],
   "source": [
    "np.where((mnist_y_pred - mnist_y_test) != 0)"
   ]
  },
  {
   "cell_type": "code",
   "execution_count": 16,
   "id": "d0a935f1",
   "metadata": {
    "collapsed": true,
    "jupyter": {
     "outputs_hidden": true
    }
   },
   "outputs": [
    {
     "name": "stdout",
     "output_type": "stream",
     "text": [
      "y_pred: 7, y_true: 2\n",
      "y_pred: 3, y_true: 5\n",
      "y_pred: 7, y_true: 1\n",
      "y_pred: 3, y_true: 7\n",
      "y_pred: 8, y_true: 6\n",
      "y_pred: 2, y_true: 7\n",
      "y_pred: 8, y_true: 7\n",
      "y_pred: 2, y_true: 8\n",
      "y_pred: 9, y_true: 8\n",
      "y_pred: 3, y_true: 2\n",
      "y_pred: 2, y_true: 8\n",
      "y_pred: 4, y_true: 9\n",
      "y_pred: 7, y_true: 1\n",
      "y_pred: 7, y_true: 1\n",
      "y_pred: 8, y_true: 0\n",
      "y_pred: 4, y_true: 1\n",
      "y_pred: 0, y_true: 6\n",
      "y_pred: 4, y_true: 1\n",
      "y_pred: 9, y_true: 8\n",
      "y_pred: 2, y_true: 1\n",
      "y_pred: 7, y_true: 9\n",
      "y_pred: 9, y_true: 4\n",
      "y_pred: 0, y_true: 2\n",
      "y_pred: 7, y_true: 9\n",
      "y_pred: 2, y_true: 3\n",
      "y_pred: 7, y_true: 9\n",
      "y_pred: 2, y_true: 8\n",
      "y_pred: 6, y_true: 5\n",
      "y_pred: 0, y_true: 2\n",
      "y_pred: 0, y_true: 9\n",
      "y_pred: 6, y_true: 0\n",
      "y_pred: 7, y_true: 2\n",
      "y_pred: 7, y_true: 3\n",
      "y_pred: 8, y_true: 5\n",
      "y_pred: 3, y_true: 9\n",
      "y_pred: 8, y_true: 9\n",
      "y_pred: 4, y_true: 1\n",
      "y_pred: 4, y_true: 7\n",
      "y_pred: 3, y_true: 1\n",
      "y_pred: 4, y_true: 7\n",
      "y_pred: 1, y_true: 9\n",
      "y_pred: 9, y_true: 4\n",
      "y_pred: 8, y_true: 1\n",
      "y_pred: 4, y_true: 9\n",
      "y_pred: 4, y_true: 9\n",
      "y_pred: 9, y_true: 8\n",
      "y_pred: 8, y_true: 5\n",
      "y_pred: 7, y_true: 3\n",
      "y_pred: 8, y_true: 9\n",
      "y_pred: 5, y_true: 6\n",
      "y_pred: 5, y_true: 3\n",
      "y_pred: 7, y_true: 1\n",
      "y_pred: 4, y_true: 9\n",
      "y_pred: 3, y_true: 6\n",
      "y_pred: 8, y_true: 3\n",
      "y_pred: 4, y_true: 1\n",
      "y_pred: 7, y_true: 2\n",
      "y_pred: 3, y_true: 5\n",
      "y_pred: 7, y_true: 9\n",
      "y_pred: 5, y_true: 6\n",
      "y_pred: 9, y_true: 4\n",
      "y_pred: 2, y_true: 1\n",
      "y_pred: 5, y_true: 6\n",
      "y_pred: 2, y_true: 1\n",
      "y_pred: 0, y_true: 6\n",
      "y_pred: 3, y_true: 2\n",
      "y_pred: 9, y_true: 4\n",
      "y_pred: 5, y_true: 1\n",
      "y_pred: 2, y_true: 7\n",
      "y_pred: 2, y_true: 7\n",
      "y_pred: 9, y_true: 8\n",
      "y_pred: 9, y_true: 3\n",
      "y_pred: 2, y_true: 1\n",
      "y_pred: 7, y_true: 1\n",
      "y_pred: 7, y_true: 8\n",
      "y_pred: 8, y_true: 4\n",
      "y_pred: 8, y_true: 6\n",
      "y_pred: 5, y_true: 3\n",
      "y_pred: 3, y_true: 5\n",
      "y_pred: 3, y_true: 1\n",
      "y_pred: 8, y_true: 0\n",
      "y_pred: 0, y_true: 6\n",
      "y_pred: 3, y_true: 2\n",
      "y_pred: 3, y_true: 6\n",
      "y_pred: 5, y_true: 3\n",
      "y_pred: 8, y_true: 6\n",
      "y_pred: 5, y_true: 6\n",
      "y_pred: 1, y_true: 3\n",
      "y_pred: 4, y_true: 7\n",
      "y_pred: 7, y_true: 0\n",
      "y_pred: 9, y_true: 3\n",
      "y_pred: 8, y_true: 1\n",
      "y_pred: 4, y_true: 9\n",
      "y_pred: 0, y_true: 9\n",
      "y_pred: 0, y_true: 9\n",
      "y_pred: 8, y_true: 6\n",
      "y_pred: 2, y_true: 7\n",
      "y_pred: 4, y_true: 9\n",
      "y_pred: 5, y_true: 8\n",
      "y_pred: 8, y_true: 6\n",
      "y_pred: 2, y_true: 3\n",
      "y_pred: 8, y_true: 6\n",
      "y_pred: 8, y_true: 5\n",
      "y_pred: 2, y_true: 7\n",
      "y_pred: 7, y_true: 2\n",
      "y_pred: 4, y_true: 8\n",
      "y_pred: 3, y_true: 9\n",
      "y_pred: 8, y_true: 5\n",
      "y_pred: 6, y_true: 0\n",
      "y_pred: 2, y_true: 3\n",
      "y_pred: 7, y_true: 2\n",
      "y_pred: 8, y_true: 5\n",
      "y_pred: 8, y_true: 6\n",
      "y_pred: 8, y_true: 4\n",
      "y_pred: 0, y_true: 4\n",
      "y_pred: 8, y_true: 0\n",
      "y_pred: 0, y_true: 9\n",
      "y_pred: 4, y_true: 5\n",
      "y_pred: 5, y_true: 6\n",
      "y_pred: 6, y_true: 0\n",
      "y_pred: 6, y_true: 0\n",
      "y_pred: 3, y_true: 8\n",
      "y_pred: 3, y_true: 8\n",
      "y_pred: 6, y_true: 5\n",
      "y_pred: 4, y_true: 7\n",
      "y_pred: 9, y_true: 4\n",
      "y_pred: 6, y_true: 0\n",
      "y_pred: 2, y_true: 8\n",
      "y_pred: 7, y_true: 9\n",
      "y_pred: 8, y_true: 0\n",
      "y_pred: 4, y_true: 1\n",
      "y_pred: 7, y_true: 1\n",
      "y_pred: 3, y_true: 1\n",
      "y_pred: 6, y_true: 0\n",
      "y_pred: 7, y_true: 1\n",
      "y_pred: 2, y_true: 7\n",
      "y_pred: 9, y_true: 3\n",
      "y_pred: 7, y_true: 1\n",
      "y_pred: 3, y_true: 2\n",
      "y_pred: 8, y_true: 2\n",
      "y_pred: 7, y_true: 1\n",
      "y_pred: 2, y_true: 1\n",
      "y_pred: 1, y_true: 6\n",
      "y_pred: 8, y_true: 9\n",
      "y_pred: 5, y_true: 1\n",
      "y_pred: 2, y_true: 1\n",
      "y_pred: 7, y_true: 1\n",
      "y_pred: 0, y_true: 2\n",
      "y_pred: 3, y_true: 2\n",
      "y_pred: 8, y_true: 1\n",
      "y_pred: 2, y_true: 4\n",
      "y_pred: 4, y_true: 6\n",
      "y_pred: 7, y_true: 4\n",
      "y_pred: 8, y_true: 6\n",
      "y_pred: 8, y_true: 0\n",
      "y_pred: 5, y_true: 8\n",
      "y_pred: 2, y_true: 1\n",
      "y_pred: 4, y_true: 1\n",
      "y_pred: 7, y_true: 1\n",
      "y_pred: 0, y_true: 6\n",
      "y_pred: 3, y_true: 2\n",
      "y_pred: 4, y_true: 9\n",
      "y_pred: 6, y_true: 5\n",
      "y_pred: 9, y_true: 4\n",
      "y_pred: 5, y_true: 9\n",
      "y_pred: 6, y_true: 5\n",
      "y_pred: 7, y_true: 1\n",
      "y_pred: 2, y_true: 7\n",
      "y_pred: 3, y_true: 7\n",
      "y_pred: 7, y_true: 9\n",
      "y_pred: 3, y_true: 9\n",
      "y_pred: 4, y_true: 9\n",
      "y_pred: 2, y_true: 6\n",
      "y_pred: 3, y_true: 5\n",
      "y_pred: 1, y_true: 6\n",
      "y_pred: 3, y_true: 9\n",
      "y_pred: 4, y_true: 9\n",
      "y_pred: 9, y_true: 4\n",
      "y_pred: 3, y_true: 1\n",
      "y_pred: 8, y_true: 5\n",
      "y_pred: 6, y_true: 4\n",
      "y_pred: 7, y_true: 9\n",
      "y_pred: 8, y_true: 0\n",
      "y_pred: 2, y_true: 8\n",
      "y_pred: 4, y_true: 5\n",
      "y_pred: 0, y_true: 9\n",
      "y_pred: 9, y_true: 4\n",
      "y_pred: 9, y_true: 4\n",
      "y_pred: 3, y_true: 9\n",
      "y_pred: 4, y_true: 2\n",
      "y_pred: 7, y_true: 8\n",
      "y_pred: 0, y_true: 9\n",
      "y_pred: 4, y_true: 9\n",
      "y_pred: 9, y_true: 5\n",
      "y_pred: 8, y_true: 2\n",
      "y_pred: 4, y_true: 9\n",
      "y_pred: 8, y_true: 9\n",
      "y_pred: 6, y_true: 5\n",
      "y_pred: 1, y_true: 9\n",
      "y_pred: 0, y_true: 6\n",
      "y_pred: 4, y_true: 7\n",
      "y_pred: 5, y_true: 9\n",
      "y_pred: 0, y_true: 6\n",
      "y_pred: 4, y_true: 9\n",
      "y_pred: 8, y_true: 2\n",
      "y_pred: 4, y_true: 9\n",
      "y_pred: 8, y_true: 9\n",
      "y_pred: 8, y_true: 1\n",
      "y_pred: 3, y_true: 5\n",
      "y_pred: 4, y_true: 9\n",
      "y_pred: 7, y_true: 9\n",
      "y_pred: 1, y_true: 4\n",
      "y_pred: 8, y_true: 5\n",
      "y_pred: 3, y_true: 2\n",
      "y_pred: 8, y_true: 0\n",
      "y_pred: 3, y_true: 7\n",
      "y_pred: 6, y_true: 0\n",
      "y_pred: 7, y_true: 2\n",
      "y_pred: 5, y_true: 6\n",
      "y_pred: 9, y_true: 3\n",
      "y_pred: 0, y_true: 7\n",
      "y_pred: 7, y_true: 9\n",
      "y_pred: 2, y_true: 1\n",
      "y_pred: 7, y_true: 2\n",
      "y_pred: 0, y_true: 9\n",
      "y_pred: 3, y_true: 5\n",
      "y_pred: 2, y_true: 8\n",
      "y_pred: 3, y_true: 9\n",
      "y_pred: 3, y_true: 1\n",
      "y_pred: 8, y_true: 0\n",
      "y_pred: 3, y_true: 5\n",
      "y_pred: 7, y_true: 1\n",
      "y_pred: 0, y_true: 6\n",
      "y_pred: 8, y_true: 2\n",
      "y_pred: 4, y_true: 9\n",
      "y_pred: 9, y_true: 4\n",
      "y_pred: 8, y_true: 6\n",
      "y_pred: 3, y_true: 2\n",
      "y_pred: 4, y_true: 6\n",
      "y_pred: 9, y_true: 7\n",
      "y_pred: 7, y_true: 2\n",
      "y_pred: 4, y_true: 1\n",
      "y_pred: 5, y_true: 6\n",
      "y_pred: 8, y_true: 9\n",
      "y_pred: 7, y_true: 1\n",
      "y_pred: 4, y_true: 6\n",
      "y_pred: 4, y_true: 9\n",
      "y_pred: 5, y_true: 6\n",
      "y_pred: 1, y_true: 9\n",
      "y_pred: 4, y_true: 8\n",
      "y_pred: 9, y_true: 7\n",
      "y_pred: 8, y_true: 5\n",
      "y_pred: 8, y_true: 6\n",
      "y_pred: 3, y_true: 7\n",
      "y_pred: 7, y_true: 9\n",
      "y_pred: 6, y_true: 0\n",
      "y_pred: 3, y_true: 2\n",
      "y_pred: 4, y_true: 9\n",
      "y_pred: 2, y_true: 4\n",
      "y_pred: 3, y_true: 7\n",
      "y_pred: 6, y_true: 0\n",
      "y_pred: 8, y_true: 4\n",
      "y_pred: 4, y_true: 9\n",
      "y_pred: 4, y_true: 9\n",
      "y_pred: 8, y_true: 9\n",
      "y_pred: 2, y_true: 7\n",
      "y_pred: 4, y_true: 9\n",
      "y_pred: 4, y_true: 6\n",
      "y_pred: 8, y_true: 0\n",
      "y_pred: 3, y_true: 7\n",
      "y_pred: 7, y_true: 1\n",
      "y_pred: 8, y_true: 9\n",
      "y_pred: 8, y_true: 6\n",
      "y_pred: 8, y_true: 4\n",
      "y_pred: 3, y_true: 2\n",
      "y_pred: 8, y_true: 6\n",
      "y_pred: 7, y_true: 9\n",
      "y_pred: 3, y_true: 5\n",
      "y_pred: 3, y_true: 5\n",
      "y_pred: 6, y_true: 4\n",
      "y_pred: 4, y_true: 9\n",
      "y_pred: 7, y_true: 3\n"
     ]
    }
   ],
   "source": [
    "for idx in np.where((mnist_y_pred != mnist_y_test))[0]:\n",
    "    print(f\"y_pred: {mnist_y_pred[idx]}, y_true: {mnist_y_test[idx]}\")"
   ]
  },
  {
   "cell_type": "markdown",
   "id": "c6849fea",
   "metadata": {},
   "source": [
    "### Accessing convolutional layers"
   ]
  },
  {
   "cell_type": "code",
   "execution_count": 73,
   "id": "1543f56f",
   "metadata": {},
   "outputs": [],
   "source": [
    "%matplotlib inline\n",
    "from torchvision import utils\n",
    "import matplotlib.pyplot as plt"
   ]
  },
  {
   "cell_type": "code",
   "execution_count": 74,
   "id": "13288bfe",
   "metadata": {},
   "outputs": [
    {
     "data": {
      "text/plain": [
       "torch.Size([32, 1, 6, 6])"
      ]
     },
     "execution_count": 74,
     "metadata": {},
     "output_type": "execute_result"
    }
   ],
   "source": [
    "cnn.module_.conv_network[0].weight.shape"
   ]
  },
  {
   "cell_type": "code",
   "execution_count": 75,
   "id": "a9b75861",
   "metadata": {},
   "outputs": [],
   "source": [
    "l0_n, l0_c, l0_w, l0_h = cnn.module_.conv_network[0].weight.shape"
   ]
  },
  {
   "cell_type": "code",
   "execution_count": 77,
   "id": "261672d4",
   "metadata": {},
   "outputs": [
    {
     "data": {
      "text/plain": [
       "torch.Size([32, 1, 6, 6])"
      ]
     },
     "execution_count": 77,
     "metadata": {},
     "output_type": "execute_result"
    }
   ],
   "source": [
    "# this does nothing, FYI, since all Conv2D weights are 4D tensors now.\n",
    "\n",
    "cnn.module_.conv_network[0].weight.clone()[:,0,:,:].unsqueeze(dim=1).shape"
   ]
  },
  {
   "cell_type": "code",
   "execution_count": 78,
   "id": "2e8ca492",
   "metadata": {},
   "outputs": [],
   "source": [
    "feature_grid = utils.make_grid(\n",
    "    tensor=cnn.module_.conv_network[0].weight.clone(),\n",
    "    nrow=6,\n",
    "    normalize=True,\n",
    "    padding=1\n",
    ")"
   ]
  },
  {
   "cell_type": "code",
   "execution_count": 79,
   "id": "a20955b9",
   "metadata": {},
   "outputs": [
    {
     "data": {
      "text/plain": [
       "<matplotlib.image.AxesImage at 0x7fcb94f60be0>"
      ]
     },
     "execution_count": 79,
     "metadata": {},
     "output_type": "execute_result"
    },
    {
     "data": {
      "image/png": "[encoded data removed]",
      "text/plain": [
       "<Figure size 864x864 with 1 Axes>"
      ]
     },
     "metadata": {},
     "output_type": "display_data"
    }
   ],
   "source": [
    "fig = plt.figure(figsize=(6*2, 6*2))\n",
    "ax = fig.gca()\n",
    "ax.set_aspect('auto')\n",
    "ax.imshow(feature_grid.numpy().transpose(1, 2, 0))"
   ]
  },
  {
   "cell_type": "code",
   "execution_count": null,
   "id": "b5910883",
   "metadata": {},
   "outputs": [],
   "source": []
  }
 ],
 "metadata": {
  "kernelspec": {
   "display_name": "Python 3 (Spyder)",
   "language": "python3",
   "name": "python3"
  },
  "language_info": {
   "codemirror_mode": {
    "name": "ipython",
    "version": 3
   },
   "file_extension": ".py",
   "mimetype": "text/x-python",
   "name": "python",
   "nbconvert_exporter": "python",
   "pygments_lexer": "ipython3",
   "version": "3.10.12"
  }
 },
 "nbformat": 4,
 "nbformat_minor": 5
}

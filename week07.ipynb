{
 "cells": [
  {
   "cell_type": "markdown",
   "id": "db747b77-274d-4947-a56e-50748e15f56c",
   "metadata": {},
   "source": [
    "# Week 07: Dense networks"
   ]
  },
  {
   "cell_type": "code",
   "execution_count": 1,
   "id": "90ffafc2-1cc3-432d-8d2a-77e718d90035",
   "metadata": {},
   "outputs": [],
   "source": [
    "import sklearn.datasets\n",
    "import sklearn.neural_network\n",
    "import sklearn.model_selection"
   ]
  },
  {
   "cell_type": "code",
   "execution_count": 3,
   "id": "0fc20e87-8edd-4688-a81d-4b2091e29aac",
   "metadata": {},
   "outputs": [],
   "source": [
    "X, y, coef = sklearn.datasets.make_regression(\n",
    "    n_samples=500,\n",
    "    n_features=3,\n",
    "    random_state=7,\n",
    "    coef=True\n",
    ")\n",
    "\n",
    "X_train, X_test, y_train, y_test = sklearn.model_selection.train_test_split(\n",
    "    X, y, test_size=0.3, random_state=7\n",
    ")"
   ]
  },
  {
   "cell_type": "code",
   "execution_count": 4,
   "id": "9e242626-4a3d-4f25-94a5-f482e8cea375",
   "metadata": {},
   "outputs": [
    {
     "name": "stdout",
     "output_type": "stream",
     "text": [
      "(350, 3) (500, 3)\n"
     ]
    }
   ],
   "source": [
    "print(X_train.shape, X.shape)"
   ]
  },
  {
   "cell_type": "markdown",
   "id": "ce3a4f37-33d8-4bb7-b9c0-57fff7d518e7",
   "metadata": {},
   "source": [
    "## MLPRegressor in Linear Perceptron form"
   ]
  },
  {
   "cell_type": "code",
   "execution_count": 19,
   "id": "82dc6b02-af64-43c1-bc45-b1c6392340a6",
   "metadata": {},
   "outputs": [],
   "source": [
    "linear_percept = sklearn.neural_network.MLPRegressor(\n",
    "    hidden_layer_sizes=(),\n",
    "    activation='identity',\n",
    "    max_iter=600,\n",
    "    learning_rate_init=0.2,\n",
    "    # verbose=True\n",
    ")"
   ]
  },
  {
   "cell_type": "code",
   "execution_count": 20,
   "id": "54109c49-e2fc-4952-b4db-4cc825c64643",
   "metadata": {},
   "outputs": [
    {
     "data": {
      "text/html": [
       "<style>#sk-container-id-5 {color: black;}#sk-container-id-5 pre{padding: 0;}#sk-container-id-5 div.sk-toggleable {background-color: white;}#sk-container-id-5 label.sk-toggleable__label {cursor: pointer;display: block;width: 100%;margin-bottom: 0;padding: 0.3em;box-sizing: border-box;text-align: center;}#sk-container-id-5 label.sk-toggleable__label-arrow:before {content: \"▸\";float: left;margin-right: 0.25em;color: #696969;}#sk-container-id-5 label.sk-toggleable__label-arrow:hover:before {color: black;}#sk-container-id-5 div.sk-estimator:hover label.sk-toggleable__label-arrow:before {color: black;}#sk-container-id-5 div.sk-toggleable__content {max-height: 0;max-width: 0;overflow: hidden;text-align: left;background-color: #f0f8ff;}#sk-container-id-5 div.sk-toggleable__content pre {margin: 0.2em;color: black;border-radius: 0.25em;background-color: #f0f8ff;}#sk-container-id-5 input.sk-toggleable__control:checked~div.sk-toggleable__content {max-height: 200px;max-width: 100%;overflow: auto;}#sk-container-id-5 input.sk-toggleable__control:checked~label.sk-toggleable__label-arrow:before {content: \"▾\";}#sk-container-id-5 div.sk-estimator input.sk-toggleable__control:checked~label.sk-toggleable__label {background-color: #d4ebff;}#sk-container-id-5 div.sk-label input.sk-toggleable__control:checked~label.sk-toggleable__label {background-color: #d4ebff;}#sk-container-id-5 input.sk-hidden--visually {border: 0;clip: rect(1px 1px 1px 1px);clip: rect(1px, 1px, 1px, 1px);height: 1px;margin: -1px;overflow: hidden;padding: 0;position: absolute;width: 1px;}#sk-container-id-5 div.sk-estimator {font-family: monospace;background-color: #f0f8ff;border: 1px dotted black;border-radius: 0.25em;box-sizing: border-box;margin-bottom: 0.5em;}#sk-container-id-5 div.sk-estimator:hover {background-color: #d4ebff;}#sk-container-id-5 div.sk-parallel-item::after {content: \"\";width: 100%;border-bottom: 1px solid gray;flex-grow: 1;}#sk-container-id-5 div.sk-label:hover label.sk-toggleable__label {background-color: #d4ebff;}#sk-container-id-5 div.sk-serial::before {content: \"\";position: absolute;border-left: 1px solid gray;box-sizing: border-box;top: 0;bottom: 0;left: 50%;z-index: 0;}#sk-container-id-5 div.sk-serial {display: flex;flex-direction: column;align-items: center;background-color: white;padding-right: 0.2em;padding-left: 0.2em;position: relative;}#sk-container-id-5 div.sk-item {position: relative;z-index: 1;}#sk-container-id-5 div.sk-parallel {display: flex;align-items: stretch;justify-content: center;background-color: white;position: relative;}#sk-container-id-5 div.sk-item::before, #sk-container-id-5 div.sk-parallel-item::before {content: \"\";position: absolute;border-left: 1px solid gray;box-sizing: border-box;top: 0;bottom: 0;left: 50%;z-index: -1;}#sk-container-id-5 div.sk-parallel-item {display: flex;flex-direction: column;z-index: 1;position: relative;background-color: white;}#sk-container-id-5 div.sk-parallel-item:first-child::after {align-self: flex-end;width: 50%;}#sk-container-id-5 div.sk-parallel-item:last-child::after {align-self: flex-start;width: 50%;}#sk-container-id-5 div.sk-parallel-item:only-child::after {width: 0;}#sk-container-id-5 div.sk-dashed-wrapped {border: 1px dashed gray;margin: 0 0.4em 0.5em 0.4em;box-sizing: border-box;padding-bottom: 0.4em;background-color: white;}#sk-container-id-5 div.sk-label label {font-family: monospace;font-weight: bold;display: inline-block;line-height: 1.2em;}#sk-container-id-5 div.sk-label-container {text-align: center;}#sk-container-id-5 div.sk-container {/* jupyter's `normalize.less` sets `[hidden] { display: none; }` but bootstrap.min.css set `[hidden] { display: none !important; }` so we also need the `!important` here to be able to override the default hidden behavior on the sphinx rendered scikit-learn.org. See: https://github.com/scikit-learn/scikit-learn/issues/21755 */display: inline-block !important;position: relative;}#sk-container-id-5 div.sk-text-repr-fallback {display: none;}</style><div id=\"sk-container-id-5\" class=\"sk-top-container\"><div class=\"sk-text-repr-fallback\"><pre>MLPRegressor(activation=&#x27;identity&#x27;, hidden_layer_sizes=(),\n",
       "             learning_rate_init=0.2, max_iter=600)</pre><b>In a Jupyter environment, please rerun this cell to show the HTML representation or trust the notebook. <br />On GitHub, the HTML representation is unable to render, please try loading this page with nbviewer.org.</b></div><div class=\"sk-container\" hidden><div class=\"sk-item\"><div class=\"sk-estimator sk-toggleable\"><input class=\"sk-toggleable__control sk-hidden--visually\" id=\"sk-estimator-id-5\" type=\"checkbox\" checked><label for=\"sk-estimator-id-5\" class=\"sk-toggleable__label sk-toggleable__label-arrow\">MLPRegressor</label><div class=\"sk-toggleable__content\"><pre>MLPRegressor(activation=&#x27;identity&#x27;, hidden_layer_sizes=(),\n",
       "             learning_rate_init=0.2, max_iter=600)</pre></div></div></div></div></div>"
      ],
      "text/plain": [
       "MLPRegressor(activation='identity', hidden_layer_sizes=(),\n",
       "             learning_rate_init=0.2, max_iter=600)"
      ]
     },
     "execution_count": 20,
     "metadata": {},
     "output_type": "execute_result"
    }
   ],
   "source": [
    "linear_percept.fit(X_train, y_train)"
   ]
  },
  {
   "cell_type": "code",
   "execution_count": 21,
   "id": "90720bf3-8b46-4820-904e-7810858da77f",
   "metadata": {},
   "outputs": [
    {
     "data": {
      "text/plain": [
       "[array([[51.46696402],\n",
       "        [ 7.3330688 ],\n",
       "        [66.1075443 ]])]"
      ]
     },
     "execution_count": 21,
     "metadata": {},
     "output_type": "execute_result"
    }
   ],
   "source": [
    "linear_percept.coefs_"
   ]
  },
  {
   "cell_type": "code",
   "execution_count": 22,
   "id": "c7c616f9-0cdc-4f4d-9701-95db2c57aaea",
   "metadata": {},
   "outputs": [
    {
     "data": {
      "text/plain": [
       "array([51.46281462,  7.33483905, 66.15952789])"
      ]
     },
     "execution_count": 22,
     "metadata": {},
     "output_type": "execute_result"
    }
   ],
   "source": [
    "coef"
   ]
  },
  {
   "cell_type": "markdown",
   "id": "fbb60e49-137d-46b5-9d18-2ef78de94b4e",
   "metadata": {},
   "source": [
    "### \"Early stopping\" - 70% train, 10% valid, 20% test\n",
    "\n",
    "Pretend n_data = 100\n",
    "```\n",
    "desired_n_train = 70\n",
    "desired_n_valid = 10\n",
    "desired_n_test = 20\n",
    "\n",
    "actual_n_train = 80\n",
    "actual_valid_frac = desired_n_valid / actual_n_train\n",
    "actual_n_test = desired_n_test\n",
    "```"
   ]
  },
  {
   "cell_type": "code",
   "execution_count": 33,
   "id": "31853b4c-c230-480e-a6fc-2924b932593c",
   "metadata": {},
   "outputs": [],
   "source": [
    "new_X, new_y, new_coef = sklearn.datasets.make_regression(\n",
    "    n_samples=5000,\n",
    "    n_features=3,\n",
    "    random_state=7,\n",
    "    coef=True\n",
    ")\n",
    "\n",
    "new_X_train, new_X_test, new_y_train, new_y_test = sklearn.model_selection.train_test_split(\n",
    "    new_X, new_y, test_size=0.2, random_state=7\n",
    ")"
   ]
  },
  {
   "cell_type": "code",
   "execution_count": 42,
   "id": "e425afd5-5df3-4ea2-80e0-692251165a66",
   "metadata": {},
   "outputs": [],
   "source": [
    "linear_percept_earlystop = sklearn.neural_network.MLPRegressor(\n",
    "    hidden_layer_sizes=(),\n",
    "    activation='identity',\n",
    "    learning_rate_init=0.4,\n",
    "    early_stopping=True,\n",
    "    validation_fraction=0.125,\n",
    "    n_iter_no_change=10,\n",
    "    tol=1e-4,\n",
    "    max_iter=10000,\n",
    "    verbose=True\n",
    ")"
   ]
  },
  {
   "cell_type": "code",
   "execution_count": 40,
   "id": "8de07a10-2408-49bb-9f8a-03d65f005af5",
   "metadata": {},
   "outputs": [
    {
     "name": "stdout",
     "output_type": "stream",
     "text": [
      "Iteration 1, loss = 4842.74812711\n",
      "Validation score: 0.181189\n",
      "Iteration 2, loss = 3943.76741227\n",
      "Validation score: 0.330644\n",
      "Iteration 3, loss = 3214.14300526\n",
      "Validation score: 0.450318\n",
      "Iteration 4, loss = 2632.03310450\n",
      "Validation score: 0.546827\n",
      "Iteration 5, loss = 2170.37713119\n",
      "Validation score: 0.627204\n",
      "Iteration 6, loss = 1785.18774216\n",
      "Validation score: 0.693794\n",
      "Iteration 7, loss = 1464.25177491\n",
      "Validation score: 0.749179\n",
      "Iteration 8, loss = 1194.10030844\n",
      "Validation score: 0.796494\n",
      "Iteration 9, loss = 965.81198363\n",
      "Validation score: 0.836001\n",
      "Iteration 10, loss = 776.13646104\n",
      "Validation score: 0.869595\n",
      "Iteration 11, loss = 616.07063776\n",
      "Validation score: 0.896661\n",
      "Iteration 12, loss = 485.60590525\n",
      "Validation score: 0.918809\n",
      "Iteration 13, loss = 379.19183909\n",
      "Validation score: 0.936848\n",
      "Iteration 14, loss = 293.49951707\n",
      "Validation score: 0.951612\n",
      "Iteration 15, loss = 224.54766578\n",
      "Validation score: 0.963334\n",
      "Iteration 16, loss = 169.39434457\n",
      "Validation score: 0.972344\n",
      "Iteration 17, loss = 127.10243782\n",
      "Validation score: 0.979408\n",
      "Iteration 18, loss = 94.21288243\n",
      "Validation score: 0.984765\n",
      "Iteration 19, loss = 69.50930257\n",
      "Validation score: 0.988918\n",
      "Iteration 20, loss = 50.38138792\n",
      "Validation score: 0.991987\n",
      "Iteration 21, loss = 36.19288276\n",
      "Validation score: 0.994240\n",
      "Iteration 22, loss = 25.86147557\n",
      "Validation score: 0.995913\n",
      "Iteration 23, loss = 18.25565308\n",
      "Validation score: 0.997147\n",
      "Iteration 24, loss = 12.71803067\n",
      "Validation score: 0.998024\n",
      "Iteration 25, loss = 8.78005789\n",
      "Validation score: 0.998647\n",
      "Iteration 26, loss = 5.98966000\n",
      "Validation score: 0.999076\n",
      "Iteration 27, loss = 4.08014219\n",
      "Validation score: 0.999382\n",
      "Iteration 28, loss = 2.70771986\n",
      "Validation score: 0.999587\n",
      "Iteration 29, loss = 1.79837534\n",
      "Validation score: 0.999729\n",
      "Iteration 30, loss = 1.17512334\n",
      "Validation score: 0.999824\n",
      "Iteration 31, loss = 0.76397194\n",
      "Validation score: 0.999887\n",
      "Iteration 32, loss = 0.48735187\n",
      "Validation score: 0.999928\n",
      "Iteration 33, loss = 0.30997962\n",
      "Validation score: 0.999954\n",
      "Iteration 34, loss = 0.19643939\n",
      "Validation score: 0.999972\n",
      "Iteration 35, loss = 0.12276404\n",
      "Validation score: 0.999982\n",
      "Iteration 36, loss = 0.07650429\n",
      "Validation score: 0.999989\n",
      "Iteration 37, loss = 0.04747791\n",
      "Validation score: 0.999994\n",
      "Iteration 38, loss = 0.02966176\n",
      "Validation score: 0.999996\n",
      "Iteration 39, loss = 0.01866310\n",
      "Validation score: 0.999998\n",
      "Iteration 40, loss = 0.01205196\n",
      "Validation score: 0.999999\n",
      "Validation score did not improve more than tol=0.000100 for 10 consecutive epochs. Stopping.\n"
     ]
    },
    {
     "data": {
      "text/html": [
       "<style>#sk-container-id-10 {color: black;}#sk-container-id-10 pre{padding: 0;}#sk-container-id-10 div.sk-toggleable {background-color: white;}#sk-container-id-10 label.sk-toggleable__label {cursor: pointer;display: block;width: 100%;margin-bottom: 0;padding: 0.3em;box-sizing: border-box;text-align: center;}#sk-container-id-10 label.sk-toggleable__label-arrow:before {content: \"▸\";float: left;margin-right: 0.25em;color: #696969;}#sk-container-id-10 label.sk-toggleable__label-arrow:hover:before {color: black;}#sk-container-id-10 div.sk-estimator:hover label.sk-toggleable__label-arrow:before {color: black;}#sk-container-id-10 div.sk-toggleable__content {max-height: 0;max-width: 0;overflow: hidden;text-align: left;background-color: #f0f8ff;}#sk-container-id-10 div.sk-toggleable__content pre {margin: 0.2em;color: black;border-radius: 0.25em;background-color: #f0f8ff;}#sk-container-id-10 input.sk-toggleable__control:checked~div.sk-toggleable__content {max-height: 200px;max-width: 100%;overflow: auto;}#sk-container-id-10 input.sk-toggleable__control:checked~label.sk-toggleable__label-arrow:before {content: \"▾\";}#sk-container-id-10 div.sk-estimator input.sk-toggleable__control:checked~label.sk-toggleable__label {background-color: #d4ebff;}#sk-container-id-10 div.sk-label input.sk-toggleable__control:checked~label.sk-toggleable__label {background-color: #d4ebff;}#sk-container-id-10 input.sk-hidden--visually {border: 0;clip: rect(1px 1px 1px 1px);clip: rect(1px, 1px, 1px, 1px);height: 1px;margin: -1px;overflow: hidden;padding: 0;position: absolute;width: 1px;}#sk-container-id-10 div.sk-estimator {font-family: monospace;background-color: #f0f8ff;border: 1px dotted black;border-radius: 0.25em;box-sizing: border-box;margin-bottom: 0.5em;}#sk-container-id-10 div.sk-estimator:hover {background-color: #d4ebff;}#sk-container-id-10 div.sk-parallel-item::after {content: \"\";width: 100%;border-bottom: 1px solid gray;flex-grow: 1;}#sk-container-id-10 div.sk-label:hover label.sk-toggleable__label {background-color: #d4ebff;}#sk-container-id-10 div.sk-serial::before {content: \"\";position: absolute;border-left: 1px solid gray;box-sizing: border-box;top: 0;bottom: 0;left: 50%;z-index: 0;}#sk-container-id-10 div.sk-serial {display: flex;flex-direction: column;align-items: center;background-color: white;padding-right: 0.2em;padding-left: 0.2em;position: relative;}#sk-container-id-10 div.sk-item {position: relative;z-index: 1;}#sk-container-id-10 div.sk-parallel {display: flex;align-items: stretch;justify-content: center;background-color: white;position: relative;}#sk-container-id-10 div.sk-item::before, #sk-container-id-10 div.sk-parallel-item::before {content: \"\";position: absolute;border-left: 1px solid gray;box-sizing: border-box;top: 0;bottom: 0;left: 50%;z-index: -1;}#sk-container-id-10 div.sk-parallel-item {display: flex;flex-direction: column;z-index: 1;position: relative;background-color: white;}#sk-container-id-10 div.sk-parallel-item:first-child::after {align-self: flex-end;width: 50%;}#sk-container-id-10 div.sk-parallel-item:last-child::after {align-self: flex-start;width: 50%;}#sk-container-id-10 div.sk-parallel-item:only-child::after {width: 0;}#sk-container-id-10 div.sk-dashed-wrapped {border: 1px dashed gray;margin: 0 0.4em 0.5em 0.4em;box-sizing: border-box;padding-bottom: 0.4em;background-color: white;}#sk-container-id-10 div.sk-label label {font-family: monospace;font-weight: bold;display: inline-block;line-height: 1.2em;}#sk-container-id-10 div.sk-label-container {text-align: center;}#sk-container-id-10 div.sk-container {/* jupyter's `normalize.less` sets `[hidden] { display: none; }` but bootstrap.min.css set `[hidden] { display: none !important; }` so we also need the `!important` here to be able to override the default hidden behavior on the sphinx rendered scikit-learn.org. See: https://github.com/scikit-learn/scikit-learn/issues/21755 */display: inline-block !important;position: relative;}#sk-container-id-10 div.sk-text-repr-fallback {display: none;}</style><div id=\"sk-container-id-10\" class=\"sk-top-container\"><div class=\"sk-text-repr-fallback\"><pre>MLPRegressor(activation=&#x27;logistic&#x27;, early_stopping=True, hidden_layer_sizes=(),\n",
       "             learning_rate_init=0.4, max_iter=10000, validation_fraction=0.125,\n",
       "             verbose=True)</pre><b>In a Jupyter environment, please rerun this cell to show the HTML representation or trust the notebook. <br />On GitHub, the HTML representation is unable to render, please try loading this page with nbviewer.org.</b></div><div class=\"sk-container\" hidden><div class=\"sk-item\"><div class=\"sk-estimator sk-toggleable\"><input class=\"sk-toggleable__control sk-hidden--visually\" id=\"sk-estimator-id-10\" type=\"checkbox\" checked><label for=\"sk-estimator-id-10\" class=\"sk-toggleable__label sk-toggleable__label-arrow\">MLPRegressor</label><div class=\"sk-toggleable__content\"><pre>MLPRegressor(activation=&#x27;logistic&#x27;, early_stopping=True, hidden_layer_sizes=(),\n",
       "             learning_rate_init=0.4, max_iter=10000, validation_fraction=0.125,\n",
       "             verbose=True)</pre></div></div></div></div></div>"
      ],
      "text/plain": [
       "MLPRegressor(activation='logistic', early_stopping=True, hidden_layer_sizes=(),\n",
       "             learning_rate_init=0.4, max_iter=10000, validation_fraction=0.125,\n",
       "             verbose=True)"
      ]
     },
     "execution_count": 40,
     "metadata": {},
     "output_type": "execute_result"
    }
   ],
   "source": [
    "linear_percept_earlystop.fit(new_X_train, new_y_train)"
   ]
  },
  {
   "cell_type": "code",
   "execution_count": 41,
   "id": "48f61030-379e-49e7-98d6-254bc9c1e610",
   "metadata": {},
   "outputs": [
    {
     "data": {
      "text/plain": [
       "[array([[96.48580411],\n",
       "        [29.91656452],\n",
       "        [23.39786079]])]"
      ]
     },
     "execution_count": 41,
     "metadata": {},
     "output_type": "execute_result"
    }
   ],
   "source": [
    "linear_percept_earlystop.coefs_"
   ]
  },
  {
   "cell_type": "code",
   "execution_count": 38,
   "id": "ea928cd3-58d9-44f6-b359-31435f38afb3",
   "metadata": {},
   "outputs": [
    {
     "data": {
      "text/plain": [
       "array([96.60493555, 29.91660059, 23.39379681])"
      ]
     },
     "execution_count": 38,
     "metadata": {},
     "output_type": "execute_result"
    }
   ],
   "source": [
    "new_coef"
   ]
  },
  {
   "cell_type": "markdown",
   "id": "30ab1f5f-9343-492a-ad06-994eea3259e0",
   "metadata": {},
   "source": [
    "## 1 hidden layer MLPRegressor with only one node"
   ]
  },
  {
   "cell_type": "code",
   "execution_count": 53,
   "id": "4d8bd00d-d56e-4c49-b77c-c5be013a7427",
   "metadata": {},
   "outputs": [],
   "source": [
    "single_layer_mlp = sklearn.neural_network.MLPRegressor(\n",
    "    hidden_layer_sizes=(1,),\n",
    "    activation='identity',\n",
    "    learning_rate_init=0.4,\n",
    "    early_stopping=True,\n",
    "    validation_fraction=0.125,\n",
    "    n_iter_no_change=10,\n",
    "    tol=1e-4,\n",
    "    max_iter=10000,\n",
    "    verbose=True\n",
    ")"
   ]
  },
  {
   "cell_type": "code",
   "execution_count": 54,
   "id": "d990aa6c-989b-43e9-b1dd-884600478bf9",
   "metadata": {},
   "outputs": [
    {
     "name": "stdout",
     "output_type": "stream",
     "text": [
      "Iteration 1, loss = 3246.73794722\n",
      "Validation score: 0.867106\n",
      "Iteration 2, loss = 263.21655230\n",
      "Validation score: 0.973544\n",
      "Iteration 3, loss = 46.56676032\n",
      "Validation score: 0.995200\n",
      "Iteration 4, loss = 8.37803159\n",
      "Validation score: 0.999385\n",
      "Iteration 5, loss = 1.31403542\n",
      "Validation score: 0.999874\n",
      "Iteration 6, loss = 0.22687829\n",
      "Validation score: 0.999988\n",
      "Iteration 7, loss = 0.03331754\n",
      "Validation score: 1.000000\n",
      "Iteration 8, loss = 0.00507893\n",
      "Validation score: 1.000000\n",
      "Iteration 9, loss = 0.00113628\n",
      "Validation score: 1.000000\n",
      "Iteration 10, loss = 0.00018555\n",
      "Validation score: 1.000000\n",
      "Iteration 11, loss = 0.00007476\n",
      "Validation score: 1.000000\n",
      "Iteration 12, loss = 0.00005858\n",
      "Validation score: 1.000000\n",
      "Iteration 13, loss = 0.00005586\n",
      "Validation score: 1.000000\n",
      "Iteration 14, loss = 0.00005550\n",
      "Validation score: 1.000000\n",
      "Iteration 15, loss = 0.00005543\n",
      "Validation score: 1.000000\n",
      "Iteration 16, loss = 0.00005542\n",
      "Validation score: 1.000000\n",
      "Iteration 17, loss = 0.00005542\n",
      "Validation score: 1.000000\n",
      "Validation score did not improve more than tol=0.000100 for 10 consecutive epochs. Stopping.\n"
     ]
    },
    {
     "data": {
      "text/html": [
       "<style>#sk-container-id-15 {color: black;}#sk-container-id-15 pre{padding: 0;}#sk-container-id-15 div.sk-toggleable {background-color: white;}#sk-container-id-15 label.sk-toggleable__label {cursor: pointer;display: block;width: 100%;margin-bottom: 0;padding: 0.3em;box-sizing: border-box;text-align: center;}#sk-container-id-15 label.sk-toggleable__label-arrow:before {content: \"▸\";float: left;margin-right: 0.25em;color: #696969;}#sk-container-id-15 label.sk-toggleable__label-arrow:hover:before {color: black;}#sk-container-id-15 div.sk-estimator:hover label.sk-toggleable__label-arrow:before {color: black;}#sk-container-id-15 div.sk-toggleable__content {max-height: 0;max-width: 0;overflow: hidden;text-align: left;background-color: #f0f8ff;}#sk-container-id-15 div.sk-toggleable__content pre {margin: 0.2em;color: black;border-radius: 0.25em;background-color: #f0f8ff;}#sk-container-id-15 input.sk-toggleable__control:checked~div.sk-toggleable__content {max-height: 200px;max-width: 100%;overflow: auto;}#sk-container-id-15 input.sk-toggleable__control:checked~label.sk-toggleable__label-arrow:before {content: \"▾\";}#sk-container-id-15 div.sk-estimator input.sk-toggleable__control:checked~label.sk-toggleable__label {background-color: #d4ebff;}#sk-container-id-15 div.sk-label input.sk-toggleable__control:checked~label.sk-toggleable__label {background-color: #d4ebff;}#sk-container-id-15 input.sk-hidden--visually {border: 0;clip: rect(1px 1px 1px 1px);clip: rect(1px, 1px, 1px, 1px);height: 1px;margin: -1px;overflow: hidden;padding: 0;position: absolute;width: 1px;}#sk-container-id-15 div.sk-estimator {font-family: monospace;background-color: #f0f8ff;border: 1px dotted black;border-radius: 0.25em;box-sizing: border-box;margin-bottom: 0.5em;}#sk-container-id-15 div.sk-estimator:hover {background-color: #d4ebff;}#sk-container-id-15 div.sk-parallel-item::after {content: \"\";width: 100%;border-bottom: 1px solid gray;flex-grow: 1;}#sk-container-id-15 div.sk-label:hover label.sk-toggleable__label {background-color: #d4ebff;}#sk-container-id-15 div.sk-serial::before {content: \"\";position: absolute;border-left: 1px solid gray;box-sizing: border-box;top: 0;bottom: 0;left: 50%;z-index: 0;}#sk-container-id-15 div.sk-serial {display: flex;flex-direction: column;align-items: center;background-color: white;padding-right: 0.2em;padding-left: 0.2em;position: relative;}#sk-container-id-15 div.sk-item {position: relative;z-index: 1;}#sk-container-id-15 div.sk-parallel {display: flex;align-items: stretch;justify-content: center;background-color: white;position: relative;}#sk-container-id-15 div.sk-item::before, #sk-container-id-15 div.sk-parallel-item::before {content: \"\";position: absolute;border-left: 1px solid gray;box-sizing: border-box;top: 0;bottom: 0;left: 50%;z-index: -1;}#sk-container-id-15 div.sk-parallel-item {display: flex;flex-direction: column;z-index: 1;position: relative;background-color: white;}#sk-container-id-15 div.sk-parallel-item:first-child::after {align-self: flex-end;width: 50%;}#sk-container-id-15 div.sk-parallel-item:last-child::after {align-self: flex-start;width: 50%;}#sk-container-id-15 div.sk-parallel-item:only-child::after {width: 0;}#sk-container-id-15 div.sk-dashed-wrapped {border: 1px dashed gray;margin: 0 0.4em 0.5em 0.4em;box-sizing: border-box;padding-bottom: 0.4em;background-color: white;}#sk-container-id-15 div.sk-label label {font-family: monospace;font-weight: bold;display: inline-block;line-height: 1.2em;}#sk-container-id-15 div.sk-label-container {text-align: center;}#sk-container-id-15 div.sk-container {/* jupyter's `normalize.less` sets `[hidden] { display: none; }` but bootstrap.min.css set `[hidden] { display: none !important; }` so we also need the `!important` here to be able to override the default hidden behavior on the sphinx rendered scikit-learn.org. See: https://github.com/scikit-learn/scikit-learn/issues/21755 */display: inline-block !important;position: relative;}#sk-container-id-15 div.sk-text-repr-fallback {display: none;}</style><div id=\"sk-container-id-15\" class=\"sk-top-container\"><div class=\"sk-text-repr-fallback\"><pre>MLPRegressor(activation=&#x27;identity&#x27;, early_stopping=True,\n",
       "             hidden_layer_sizes=(1,), learning_rate_init=0.4, max_iter=10000,\n",
       "             validation_fraction=0.125, verbose=True)</pre><b>In a Jupyter environment, please rerun this cell to show the HTML representation or trust the notebook. <br />On GitHub, the HTML representation is unable to render, please try loading this page with nbviewer.org.</b></div><div class=\"sk-container\" hidden><div class=\"sk-item\"><div class=\"sk-estimator sk-toggleable\"><input class=\"sk-toggleable__control sk-hidden--visually\" id=\"sk-estimator-id-15\" type=\"checkbox\" checked><label for=\"sk-estimator-id-15\" class=\"sk-toggleable__label sk-toggleable__label-arrow\">MLPRegressor</label><div class=\"sk-toggleable__content\"><pre>MLPRegressor(activation=&#x27;identity&#x27;, early_stopping=True,\n",
       "             hidden_layer_sizes=(1,), learning_rate_init=0.4, max_iter=10000,\n",
       "             validation_fraction=0.125, verbose=True)</pre></div></div></div></div></div>"
      ],
      "text/plain": [
       "MLPRegressor(activation='identity', early_stopping=True,\n",
       "             hidden_layer_sizes=(1,), learning_rate_init=0.4, max_iter=10000,\n",
       "             validation_fraction=0.125, verbose=True)"
      ]
     },
     "execution_count": 54,
     "metadata": {},
     "output_type": "execute_result"
    }
   ],
   "source": [
    "single_layer_mlp.fit(new_X_train, new_y_train)"
   ]
  },
  {
   "cell_type": "code",
   "execution_count": 55,
   "id": "c1ed542d-bf6c-4030-b950-eb21fbbccd68",
   "metadata": {},
   "outputs": [
    {
     "data": {
      "text/plain": [
       "[array([[-10.88099475],\n",
       "        [ -3.36962379],\n",
       "        [ -2.63493609]]),\n",
       " array([[-8.87831836]])]"
      ]
     },
     "execution_count": 55,
     "metadata": {},
     "output_type": "execute_result"
    }
   ],
   "source": [
    "single_layer_mlp.coefs_"
   ]
  },
  {
   "cell_type": "markdown",
   "id": "91b003d9-d0c8-4c7f-a629-43730561a22b",
   "metadata": {},
   "source": [
    "# One hidden layer MLP with multiple nodes"
   ]
  },
  {
   "cell_type": "code",
   "execution_count": 56,
   "id": "3c4d00c9-4281-4a7f-be2a-27eaf6de3ef4",
   "metadata": {},
   "outputs": [],
   "source": [
    "bigger_single_layer_mlp = sklearn.neural_network.MLPRegressor(\n",
    "    hidden_layer_sizes=(3,),\n",
    "    activation='relu',\n",
    "    learning_rate_init=0.4,\n",
    "    early_stopping=True,\n",
    "    validation_fraction=0.125,\n",
    "    n_iter_no_change=10,\n",
    "    tol=1e-4,\n",
    "    max_iter=10000,\n",
    "    verbose=True\n",
    ")"
   ]
  },
  {
   "cell_type": "code",
   "execution_count": 57,
   "id": "04fd049f-e0b2-428e-a1cc-759918950ba3",
   "metadata": {},
   "outputs": [
    {
     "name": "stdout",
     "output_type": "stream",
     "text": [
      "Iteration 1, loss = 2643.97679644\n",
      "Validation score: 0.952045\n",
      "Iteration 2, loss = 212.56947618\n",
      "Validation score: 0.985376\n",
      "Iteration 3, loss = 37.29793455\n",
      "Validation score: 0.997069\n",
      "Iteration 4, loss = 6.12881934\n",
      "Validation score: 0.999561\n",
      "Iteration 5, loss = 0.87931894\n",
      "Validation score: 0.999959\n",
      "Iteration 6, loss = 0.18629238\n",
      "Validation score: 0.999987\n",
      "Iteration 7, loss = 0.02774818\n",
      "Validation score: 0.999998\n",
      "Iteration 8, loss = 0.00499360\n",
      "Validation score: 1.000000\n",
      "Iteration 9, loss = 0.00097406\n",
      "Validation score: 1.000000\n",
      "Iteration 10, loss = 0.00023733\n",
      "Validation score: 1.000000\n",
      "Iteration 11, loss = 0.00008308\n",
      "Validation score: 1.000000\n",
      "Iteration 12, loss = 0.00006344\n",
      "Validation score: 1.000000\n",
      "Iteration 13, loss = 0.00006086\n",
      "Validation score: 1.000000\n",
      "Iteration 14, loss = 0.00006024\n",
      "Validation score: 1.000000\n",
      "Iteration 15, loss = 0.00006016\n",
      "Validation score: 1.000000\n",
      "Iteration 16, loss = 0.00006014\n",
      "Validation score: 1.000000\n",
      "Validation score did not improve more than tol=0.000100 for 10 consecutive epochs. Stopping.\n"
     ]
    },
    {
     "data": {
      "text/html": [
       "<style>#sk-container-id-16 {color: black;}#sk-container-id-16 pre{padding: 0;}#sk-container-id-16 div.sk-toggleable {background-color: white;}#sk-container-id-16 label.sk-toggleable__label {cursor: pointer;display: block;width: 100%;margin-bottom: 0;padding: 0.3em;box-sizing: border-box;text-align: center;}#sk-container-id-16 label.sk-toggleable__label-arrow:before {content: \"▸\";float: left;margin-right: 0.25em;color: #696969;}#sk-container-id-16 label.sk-toggleable__label-arrow:hover:before {color: black;}#sk-container-id-16 div.sk-estimator:hover label.sk-toggleable__label-arrow:before {color: black;}#sk-container-id-16 div.sk-toggleable__content {max-height: 0;max-width: 0;overflow: hidden;text-align: left;background-color: #f0f8ff;}#sk-container-id-16 div.sk-toggleable__content pre {margin: 0.2em;color: black;border-radius: 0.25em;background-color: #f0f8ff;}#sk-container-id-16 input.sk-toggleable__control:checked~div.sk-toggleable__content {max-height: 200px;max-width: 100%;overflow: auto;}#sk-container-id-16 input.sk-toggleable__control:checked~label.sk-toggleable__label-arrow:before {content: \"▾\";}#sk-container-id-16 div.sk-estimator input.sk-toggleable__control:checked~label.sk-toggleable__label {background-color: #d4ebff;}#sk-container-id-16 div.sk-label input.sk-toggleable__control:checked~label.sk-toggleable__label {background-color: #d4ebff;}#sk-container-id-16 input.sk-hidden--visually {border: 0;clip: rect(1px 1px 1px 1px);clip: rect(1px, 1px, 1px, 1px);height: 1px;margin: -1px;overflow: hidden;padding: 0;position: absolute;width: 1px;}#sk-container-id-16 div.sk-estimator {font-family: monospace;background-color: #f0f8ff;border: 1px dotted black;border-radius: 0.25em;box-sizing: border-box;margin-bottom: 0.5em;}#sk-container-id-16 div.sk-estimator:hover {background-color: #d4ebff;}#sk-container-id-16 div.sk-parallel-item::after {content: \"\";width: 100%;border-bottom: 1px solid gray;flex-grow: 1;}#sk-container-id-16 div.sk-label:hover label.sk-toggleable__label {background-color: #d4ebff;}#sk-container-id-16 div.sk-serial::before {content: \"\";position: absolute;border-left: 1px solid gray;box-sizing: border-box;top: 0;bottom: 0;left: 50%;z-index: 0;}#sk-container-id-16 div.sk-serial {display: flex;flex-direction: column;align-items: center;background-color: white;padding-right: 0.2em;padding-left: 0.2em;position: relative;}#sk-container-id-16 div.sk-item {position: relative;z-index: 1;}#sk-container-id-16 div.sk-parallel {display: flex;align-items: stretch;justify-content: center;background-color: white;position: relative;}#sk-container-id-16 div.sk-item::before, #sk-container-id-16 div.sk-parallel-item::before {content: \"\";position: absolute;border-left: 1px solid gray;box-sizing: border-box;top: 0;bottom: 0;left: 50%;z-index: -1;}#sk-container-id-16 div.sk-parallel-item {display: flex;flex-direction: column;z-index: 1;position: relative;background-color: white;}#sk-container-id-16 div.sk-parallel-item:first-child::after {align-self: flex-end;width: 50%;}#sk-container-id-16 div.sk-parallel-item:last-child::after {align-self: flex-start;width: 50%;}#sk-container-id-16 div.sk-parallel-item:only-child::after {width: 0;}#sk-container-id-16 div.sk-dashed-wrapped {border: 1px dashed gray;margin: 0 0.4em 0.5em 0.4em;box-sizing: border-box;padding-bottom: 0.4em;background-color: white;}#sk-container-id-16 div.sk-label label {font-family: monospace;font-weight: bold;display: inline-block;line-height: 1.2em;}#sk-container-id-16 div.sk-label-container {text-align: center;}#sk-container-id-16 div.sk-container {/* jupyter's `normalize.less` sets `[hidden] { display: none; }` but bootstrap.min.css set `[hidden] { display: none !important; }` so we also need the `!important` here to be able to override the default hidden behavior on the sphinx rendered scikit-learn.org. See: https://github.com/scikit-learn/scikit-learn/issues/21755 */display: inline-block !important;position: relative;}#sk-container-id-16 div.sk-text-repr-fallback {display: none;}</style><div id=\"sk-container-id-16\" class=\"sk-top-container\"><div class=\"sk-text-repr-fallback\"><pre>MLPRegressor(activation=&#x27;identity&#x27;, early_stopping=True,\n",
       "             hidden_layer_sizes=(3,), learning_rate_init=0.4, max_iter=10000,\n",
       "             validation_fraction=0.125, verbose=True)</pre><b>In a Jupyter environment, please rerun this cell to show the HTML representation or trust the notebook. <br />On GitHub, the HTML representation is unable to render, please try loading this page with nbviewer.org.</b></div><div class=\"sk-container\" hidden><div class=\"sk-item\"><div class=\"sk-estimator sk-toggleable\"><input class=\"sk-toggleable__control sk-hidden--visually\" id=\"sk-estimator-id-16\" type=\"checkbox\" checked><label for=\"sk-estimator-id-16\" class=\"sk-toggleable__label sk-toggleable__label-arrow\">MLPRegressor</label><div class=\"sk-toggleable__content\"><pre>MLPRegressor(activation=&#x27;identity&#x27;, early_stopping=True,\n",
       "             hidden_layer_sizes=(3,), learning_rate_init=0.4, max_iter=10000,\n",
       "             validation_fraction=0.125, verbose=True)</pre></div></div></div></div></div>"
      ],
      "text/plain": [
       "MLPRegressor(activation='identity', early_stopping=True,\n",
       "             hidden_layer_sizes=(3,), learning_rate_init=0.4, max_iter=10000,\n",
       "             validation_fraction=0.125, verbose=True)"
      ]
     },
     "execution_count": 57,
     "metadata": {},
     "output_type": "execute_result"
    }
   ],
   "source": [
    "bigger_single_layer_mlp.fit(new_X_train, new_y_train)"
   ]
  },
  {
   "cell_type": "code",
   "execution_count": 58,
   "id": "53cea30f-5956-4424-a2a5-5ca995390bf1",
   "metadata": {},
   "outputs": [
    {
     "data": {
      "text/plain": [
       "[array([[-8.36058203,  5.49533145, -6.59389139],\n",
       "        [-3.32209956,  0.95569338, -1.34927369],\n",
       "        [-2.65343949,  1.45108864, -0.5157104 ]]),\n",
       " array([[-6.57459757],\n",
       "        [ 2.63588882],\n",
       "        [-4.1178086 ]])]"
      ]
     },
     "execution_count": 58,
     "metadata": {},
     "output_type": "execute_result"
    }
   ],
   "source": [
    "bigger_single_layer_mlp.coefs_"
   ]
  }
 ],
 "metadata": {
  "kernelspec": {
   "display_name": "Python 3 (Spyder)",
   "language": "python3",
   "name": "python3"
  },
  "language_info": {
   "codemirror_mode": {
    "name": "ipython",
    "version": 3
   },
   "file_extension": ".py",
   "mimetype": "text/x-python",
   "name": "python",
   "nbconvert_exporter": "python",
   "pygments_lexer": "ipython3",
   "version": "3.10.12"
  }
 },
 "nbformat": 4,
 "nbformat_minor": 5
}
